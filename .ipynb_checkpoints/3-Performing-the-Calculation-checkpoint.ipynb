{
 "cells": [
  {
   "cell_type": "markdown",
   "id": "d3a555ae",
   "metadata": {},
   "source": [
    "# Performing the Calculation"
   ]
  },
  {
   "cell_type": "markdown",
   "id": "eb6dd2cd",
   "metadata": {},
   "source": [
    "Now that we have performed the transformation on the boavizta files, we can perform the calculation with an accurate database.<br><br>\n",
    "The other data that goes into the calculation you will need to fill in here, such as:\n",
    "- Number of devices refurbished by type\n",
    "- Yearly carbon emissions for your facility\n",
    "- Pickup location and sales location"
   ]
  },
  {
   "cell_type": "code",
   "execution_count": null,
   "id": "26c4ec66",
   "metadata": {},
   "outputs": [],
   "source": [
    "import pandas as pd"
   ]
  },
  {
   "cell_type": "markdown",
   "id": "9e99bc33",
   "metadata": {},
   "source": [
    "## 1 Carbon benefit per product"
   ]
  },
  {
   "cell_type": "markdown",
   "id": "26fdd626",
   "metadata": {},
   "source": [
    "We'll import the boavizta CSV that we made:"
   ]
  },
  {
   "cell_type": "code",
   "execution_count": null,
   "id": "527a2fc2",
   "metadata": {},
   "outputs": [],
   "source": [
    "df_boavizta = pd.read_csv('CSVs/boavizta-product-averages.csv')"
   ]
  },
  {
   "cell_type": "markdown",
   "id": "d772128d",
   "metadata": {},
   "source": [
    "Now, assign below the number of each subcategory you wish to calculate for:"
   ]
  },
  {
   "cell_type": "code",
   "execution_count": null,
   "id": "2fae8183",
   "metadata": {},
   "outputs": [],
   "source": [
    "All_in_One_24_greater = 0\n",
    "All_in_One_24_less = 0\n",
    "Average_All_in_One = 0\n",
    "Average_Desktop = 0\n",
    "Average_Laptop = 0\n",
    "Average_Monitor = 0\n",
    "Desktop_SFF = 0\n",
    "Desktop_Tower = 0\n",
    "Desktop_USDT = 0\n",
    "Laptop_14_greater = 0\n",
    "Laptop_14_lesser = 0\n",
    "Monitor_33_greater = 0\n",
    "Monitor_33_lesser = 0\n",
    "Printer = 0\n",
    "Smartphone = 0\n",
    "Tablet = 0\n",
    "Workstation = 0"
   ]
  },
  {
   "cell_type": "markdown",
   "id": "14c49700",
   "metadata": {},
   "source": [
    "Now, we need to assign all of the above in the dataframe:"
   ]
  },
  {
   "cell_type": "code",
   "execution_count": null,
   "id": "a47b2c9b",
   "metadata": {},
   "outputs": [],
   "source": [
    "df_benefits = df_boavizta.copy()\n",
    "df_benefits.set_index('subcategory',inplace=True)\n",
    "df_benefits.loc['All-in-One 24+', 'counts']=All_in_One_24_greater\n",
    "df_benefits.loc['All-in-One <24', 'counts']=All_in_One_24_less\n",
    "df_benefits.loc['Average All-in-One', 'counts']=Average_All_in_One\n",
    "df_benefits.loc['Average Desktop', 'counts']=Average_Desktop\n",
    "df_benefits.loc['Average Laptop', 'counts']=Average_Laptop\n",
    "df_benefits.loc['Average Monitor', 'counts']=Average_Monitor\n",
    "df_benefits.loc['Desktop SFF','counts']=Desktop_SFF\n",
    "df_benefits.loc['Desktop Tower','counts']=Desktop_Tower\n",
    "df_benefits.loc['Desktop USDT','counts']=Desktop_USDT\n",
    "df_benefits.loc['Laptop 14+','counts']=Laptop_14_greater\n",
    "df_benefits.loc['Laptop <14','counts']=Laptop_14_lesser\n",
    "df_benefits.loc['Monitor 33+','counts']=Monitor_33_greater\n",
    "df_benefits.loc['Monitor <33','counts']=Monitor_33_lesser\n",
    "df_benefits.loc['Printer','counts']=Printer\n",
    "df_benefits.loc['Smartphone','counts']=Smartphone\n",
    "df_benefits.loc['Tablet','counts']=Tablet\n",
    "df_benefits.loc['Workstation','counts']=Workstation"
   ]
  },
  {
   "cell_type": "markdown",
   "id": "8d9b706f",
   "metadata": {},
   "source": [
    "Things that go in the calc:\n",
    "- Transport emissions\n",
    "- Refurbishing"
   ]
  },
  {
   "cell_type": "markdown",
   "id": "9b7aa970",
   "metadata": {},
   "source": [
    "## 2 Refurbishing Cost"
   ]
  },
  {
   "cell_type": "markdown",
   "id": "b1901679",
   "metadata": {},
   "source": [
    "Assign your organisation's scope 1 and 2 emissions in kg CO2e to the below variables:"
   ]
  },
  {
   "cell_type": "code",
   "execution_count": null,
   "id": "aaa2aad9",
   "metadata": {},
   "outputs": [],
   "source": [
    "scope_1 = 0\n",
    "scope_2 = 0\n",
    "scope_1_and_2 = scope_1 + scope_2"
   ]
  },
  {
   "cell_type": "markdown",
   "id": "6ee8822c",
   "metadata": {},
   "source": [
    "Assign the total number of assets per year:"
   ]
  },
  {
   "cell_type": "code",
   "execution_count": null,
   "id": "9611dd9c",
   "metadata": {},
   "outputs": [],
   "source": [
    "total_assets = 0"
   ]
  },
  {
   "cell_type": "markdown",
   "id": "b7fa3a2d",
   "metadata": {},
   "source": [
    "Once we have this, we can use the following function which gets the total refurb cost:"
   ]
  },
  {
   "cell_type": "code",
   "execution_count": null,
   "id": "818680ab",
   "metadata": {},
   "outputs": [],
   "source": [
    "refurb_per_asset = scope_1_and_2/total_assets"
   ]
  },
  {
   "cell_type": "markdown",
   "id": "30689ab2",
   "metadata": {},
   "source": [
    "Then, you can find the refurb cost by taking the count of the outputs in the calculation<br>\n",
    "(Here I'm assuming that this is a calculation for a customer rather than yourself. Otherwise, you could use the total assets figure.)"
   ]
  },
  {
   "cell_type": "code",
   "execution_count": null,
   "id": "56fbb1e8",
   "metadata": {},
   "outputs": [],
   "source": [
    "assets_processed = df_benefits['counts'].sum()\n",
    "assets_processed"
   ]
  },
  {
   "cell_type": "markdown",
   "id": "00d2b04e",
   "metadata": {},
   "source": [
    "## 3 Transport Cost"
   ]
  },
  {
   "cell_type": "markdown",
   "id": "d8c251b9",
   "metadata": {},
   "source": [
    "We'll use the google maps api to calculate the distances.<br>You'll need to enter your Google Maps API key below.<br>You can make a key here: https://developers.google.com/maps and they are free up to $200 worth of calls. "
   ]
  },
  {
   "cell_type": "code",
   "execution_count": 1,
   "id": "05324ce2",
   "metadata": {},
   "outputs": [],
   "source": [
    "import googlemaps\n",
    "#gmaps = googlemaps.Client(key='UNCOMMENT AND ENTER YOUR API KEY HERE')"
   ]
  },
  {
   "cell_type": "markdown",
   "id": "704725c3",
   "metadata": {},
   "source": [
    "You'll need to assign the following locations:"
   ]
  },
  {
   "cell_type": "code",
   "execution_count": null,
   "id": "1acd664d",
   "metadata": {},
   "outputs": [],
   "source": [
    "pickup_location = 'Address that the asset came from to get to the facility'\n",
    "facility_location = 'Address that the '\n",
    "delivery_location = "
   ]
  }
 ],
 "metadata": {
  "kernelspec": {
   "display_name": "Python 3 (ipykernel)",
   "language": "python",
   "name": "python3"
  },
  "language_info": {
   "codemirror_mode": {
    "name": "ipython",
    "version": 3
   },
   "file_extension": ".py",
   "mimetype": "text/x-python",
   "name": "python",
   "nbconvert_exporter": "python",
   "pygments_lexer": "ipython3",
   "version": "3.9.13"
  }
 },
 "nbformat": 4,
 "nbformat_minor": 5
}
