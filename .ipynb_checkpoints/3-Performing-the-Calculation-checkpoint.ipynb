{
 "cells": [
  {
   "cell_type": "markdown",
   "id": "d3a555ae",
   "metadata": {},
   "source": [
    "# Performing the Calculation"
   ]
  },
  {
   "cell_type": "markdown",
   "id": "eb6dd2cd",
   "metadata": {},
   "source": [
    "Now that we have performed the transformation on the boavizta files, we can perform the calculation with an accurate database.<br><br>\n",
    "The other data that goes into the calculation you will need to fill in here, such as:\n",
    "- Number of devices refurbished by type\n",
    "- Yearly carbon emissions for your facility\n",
    "- Pickup location and sales location"
   ]
  },
  {
   "cell_type": "code",
   "execution_count": 1,
   "id": "26c4ec66",
   "metadata": {},
   "outputs": [],
   "source": [
    "import pandas as pd"
   ]
  },
  {
   "cell_type": "markdown",
   "id": "d8c251b9",
   "metadata": {},
   "source": [
    "We'll use the google maps api to calculate the distances.<br>You'll need to enter your Google Maps API key below.<br>You can make a key here: https://developers.google.com/maps and they are free up to $200 worth of calls. "
   ]
  },
  {
   "cell_type": "code",
   "execution_count": null,
   "id": "05324ce2",
   "metadata": {},
   "outputs": [],
   "source": [
    "import googlemaps\n",
    "gmaps = googlemaps.Client(key='ENTER YOUR API KEY HERE')"
   ]
  },
  {
   "cell_type": "markdown",
   "id": "26fdd626",
   "metadata": {},
   "source": [
    "We'll import the boavizta CSV that we made:"
   ]
  },
  {
   "cell_type": "code",
   "execution_count": 2,
   "id": "527a2fc2",
   "metadata": {},
   "outputs": [],
   "source": [
    "df_boavizta = pd.read_csv('CSVs/boavizta-product-averages.csv')"
   ]
  },
  {
   "cell_type": "code",
   "execution_count": null,
   "id": "afde65f1",
   "metadata": {},
   "outputs": [],
   "source": [
    "df_"
   ]
  }
 ],
 "metadata": {
  "kernelspec": {
   "display_name": "Python 3 (ipykernel)",
   "language": "python",
   "name": "python3"
  },
  "language_info": {
   "codemirror_mode": {
    "name": "ipython",
    "version": 3
   },
   "file_extension": ".py",
   "mimetype": "text/x-python",
   "name": "python",
   "nbconvert_exporter": "python",
   "pygments_lexer": "ipython3",
   "version": "3.9.13"
  }
 },
 "nbformat": 4,
 "nbformat_minor": 5
}
