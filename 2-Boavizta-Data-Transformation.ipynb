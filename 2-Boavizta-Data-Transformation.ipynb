{
 "cells": [
  {
   "cell_type": "markdown",
   "id": "2dfb68e0",
   "metadata": {},
   "source": [
    "# Pivot from Boavizta Data"
   ]
  },
  {
   "cell_type": "markdown",
   "id": "2f9204fc",
   "metadata": {},
   "source": [
    "### Setup"
   ]
  },
  {
   "cell_type": "markdown",
   "id": "984a4e3f",
   "metadata": {},
   "source": [
    "Workbook which makes a pivot from boavizta's database to use in collaboration with In Kind Direct."
   ]
  },
  {
   "cell_type": "code",
   "execution_count": 1,
   "id": "3e150021",
   "metadata": {},
   "outputs": [],
   "source": [
    "import pandas as pd\n",
    "import numpy as np"
   ]
  },
  {
   "cell_type": "markdown",
   "id": "db304bb1",
   "metadata": {},
   "source": [
    "Reads the Boavizta database"
   ]
  },
  {
   "cell_type": "code",
   "execution_count": 2,
   "id": "3d2d315d",
   "metadata": {},
   "outputs": [],
   "source": [
    "df = pd.read_csv('CSVs/boavizta-data/boavizta-data-us.csv')"
   ]
  },
  {
   "cell_type": "markdown",
   "id": "12cac9e3",
   "metadata": {},
   "source": [
    "Get rid of things we won't need. Irrelevant columns and servers."
   ]
  },
  {
   "cell_type": "code",
   "execution_count": 3,
   "id": "3ff0a46d",
   "metadata": {},
   "outputs": [],
   "source": [
    "df = df.drop(columns = ['gwp_error_ratio','gwp_daughterboard_ratio', 'gwp_enclosure_ratio', 'gwp_mainboard_ratio', 'gwp_ssd_ratio', 'height','number_cpu'])\n",
    "df = df.loc[df[\"category\"] == 'Workplace' ]"
   ]
  },
  {
   "cell_type": "markdown",
   "id": "62705691",
   "metadata": {},
   "source": [
    "## Sampling the Data"
   ]
  },
  {
   "cell_type": "markdown",
   "id": "2862757f",
   "metadata": {},
   "source": [
    "Take a look at the CSV.<br>\n",
    "Take a sample and see what the columns are."
   ]
  },
  {
   "cell_type": "code",
   "execution_count": 4,
   "id": "7dd6ed7d",
   "metadata": {},
   "outputs": [
    {
     "data": {
      "text/html": [
       "<div>\n",
       "<style scoped>\n",
       "    .dataframe tbody tr th:only-of-type {\n",
       "        vertical-align: middle;\n",
       "    }\n",
       "\n",
       "    .dataframe tbody tr th {\n",
       "        vertical-align: top;\n",
       "    }\n",
       "\n",
       "    .dataframe thead th {\n",
       "        text-align: right;\n",
       "    }\n",
       "</style>\n",
       "<table border=\"1\" class=\"dataframe\">\n",
       "  <thead>\n",
       "    <tr style=\"text-align: right;\">\n",
       "      <th></th>\n",
       "      <th>manufacturer</th>\n",
       "      <th>name</th>\n",
       "      <th>category</th>\n",
       "      <th>subcategory</th>\n",
       "      <th>gwp_total</th>\n",
       "      <th>gwp_use_ratio</th>\n",
       "      <th>yearly_tec</th>\n",
       "      <th>lifetime</th>\n",
       "      <th>use_location</th>\n",
       "      <th>report_date</th>\n",
       "      <th>...</th>\n",
       "      <th>assembly_location</th>\n",
       "      <th>screen_size</th>\n",
       "      <th>server_type</th>\n",
       "      <th>hard_drive</th>\n",
       "      <th>memory</th>\n",
       "      <th>added_date</th>\n",
       "      <th>add_method</th>\n",
       "      <th>gwp_transport_ratio</th>\n",
       "      <th>gwp_eol_ratio</th>\n",
       "      <th>comment</th>\n",
       "    </tr>\n",
       "  </thead>\n",
       "  <tbody>\n",
       "    <tr>\n",
       "      <th>1150</th>\n",
       "      <td>Microsoft</td>\n",
       "      <td>Surface Studio</td>\n",
       "      <td>Workplace</td>\n",
       "      <td>Workstation</td>\n",
       "      <td>601.0</td>\n",
       "      <td>0.062</td>\n",
       "      <td>195.1000</td>\n",
       "      <td>3.0</td>\n",
       "      <td>NaN</td>\n",
       "      <td>August 2019</td>\n",
       "      <td>...</td>\n",
       "      <td>NaN</td>\n",
       "      <td>NaN</td>\n",
       "      <td>NaN</td>\n",
       "      <td>NaN</td>\n",
       "      <td>NaN</td>\n",
       "      <td>2022-09-15</td>\n",
       "      <td>Microsoft Auto Parser</td>\n",
       "      <td>0.003</td>\n",
       "      <td>0.001</td>\n",
       "      <td>NaN</td>\n",
       "    </tr>\n",
       "    <tr>\n",
       "      <th>983</th>\n",
       "      <td>Lenovo</td>\n",
       "      <td>ThinkPad E15</td>\n",
       "      <td>Workplace</td>\n",
       "      <td>Laptop</td>\n",
       "      <td>300.0</td>\n",
       "      <td>0.170</td>\n",
       "      <td>NaN</td>\n",
       "      <td>5.0</td>\n",
       "      <td>EU</td>\n",
       "      <td>September 2019</td>\n",
       "      <td>...</td>\n",
       "      <td>CN</td>\n",
       "      <td>NaN</td>\n",
       "      <td>NaN</td>\n",
       "      <td>NaN</td>\n",
       "      <td>NaN</td>\n",
       "      <td>01-11-2020</td>\n",
       "      <td>Initial Parsing</td>\n",
       "      <td>NaN</td>\n",
       "      <td>NaN</td>\n",
       "      <td>NaN</td>\n",
       "    </tr>\n",
       "    <tr>\n",
       "      <th>45</th>\n",
       "      <td>Apple</td>\n",
       "      <td>iPhone 13 Pro Max 1TB</td>\n",
       "      <td>Workplace</td>\n",
       "      <td>Smartphone</td>\n",
       "      <td>117.0</td>\n",
       "      <td>0.150</td>\n",
       "      <td>NaN</td>\n",
       "      <td>3.0</td>\n",
       "      <td>WW</td>\n",
       "      <td>September 2021</td>\n",
       "      <td>...</td>\n",
       "      <td>NaN</td>\n",
       "      <td>1024.0</td>\n",
       "      <td>NaN</td>\n",
       "      <td>NaN</td>\n",
       "      <td>NaN</td>\n",
       "      <td>10-11-2021</td>\n",
       "      <td>Manual</td>\n",
       "      <td>NaN</td>\n",
       "      <td>NaN</td>\n",
       "      <td>NaN</td>\n",
       "    </tr>\n",
       "    <tr>\n",
       "      <th>75</th>\n",
       "      <td>Dell</td>\n",
       "      <td>D7523QT Monitor</td>\n",
       "      <td>Workplace</td>\n",
       "      <td>Monitor</td>\n",
       "      <td>3570.0</td>\n",
       "      <td>0.609</td>\n",
       "      <td>512.1972</td>\n",
       "      <td>6.0</td>\n",
       "      <td>EU</td>\n",
       "      <td>April 2022</td>\n",
       "      <td>...</td>\n",
       "      <td>China</td>\n",
       "      <td>75.0</td>\n",
       "      <td>NaN</td>\n",
       "      <td>NaN</td>\n",
       "      <td>NaN</td>\n",
       "      <td>2022-09-08</td>\n",
       "      <td>Dell Auto Parser</td>\n",
       "      <td>0.140</td>\n",
       "      <td>0.011</td>\n",
       "      <td>NaN</td>\n",
       "    </tr>\n",
       "    <tr>\n",
       "      <th>51</th>\n",
       "      <td>Apple</td>\n",
       "      <td>iPhone SE - Gen 2 256GB</td>\n",
       "      <td>Workplace</td>\n",
       "      <td>Smartphone</td>\n",
       "      <td>73.0</td>\n",
       "      <td>0.120</td>\n",
       "      <td>NaN</td>\n",
       "      <td>3.0</td>\n",
       "      <td>WW</td>\n",
       "      <td>April 2020</td>\n",
       "      <td>...</td>\n",
       "      <td>NaN</td>\n",
       "      <td>NaN</td>\n",
       "      <td>NaN</td>\n",
       "      <td>NaN</td>\n",
       "      <td>256</td>\n",
       "      <td>20-01-2022</td>\n",
       "      <td>Manual</td>\n",
       "      <td>NaN</td>\n",
       "      <td>NaN</td>\n",
       "      <td>NaN</td>\n",
       "    </tr>\n",
       "  </tbody>\n",
       "</table>\n",
       "<p>5 rows × 24 columns</p>\n",
       "</div>"
      ],
      "text/plain": [
       "     manufacturer                     name   category  subcategory  gwp_total  \\\n",
       "1150    Microsoft           Surface Studio  Workplace  Workstation      601.0   \n",
       "983        Lenovo             ThinkPad E15  Workplace       Laptop      300.0   \n",
       "45          Apple    iPhone 13 Pro Max 1TB  Workplace   Smartphone      117.0   \n",
       "75           Dell          D7523QT Monitor  Workplace      Monitor     3570.0   \n",
       "51          Apple  iPhone SE - Gen 2 256GB  Workplace   Smartphone       73.0   \n",
       "\n",
       "      gwp_use_ratio  yearly_tec  lifetime use_location     report_date  ...  \\\n",
       "1150          0.062    195.1000       3.0          NaN     August 2019  ...   \n",
       "983           0.170         NaN       5.0           EU  September 2019  ...   \n",
       "45            0.150         NaN       3.0           WW  September 2021  ...   \n",
       "75            0.609    512.1972       6.0           EU      April 2022  ...   \n",
       "51            0.120         NaN       3.0           WW      April 2020  ...   \n",
       "\n",
       "     assembly_location screen_size  server_type  hard_drive memory  \\\n",
       "1150               NaN         NaN          NaN         NaN    NaN   \n",
       "983                 CN         NaN          NaN         NaN    NaN   \n",
       "45                 NaN      1024.0          NaN         NaN    NaN   \n",
       "75               China        75.0          NaN         NaN    NaN   \n",
       "51                 NaN         NaN          NaN         NaN    256   \n",
       "\n",
       "      added_date             add_method gwp_transport_ratio gwp_eol_ratio  \\\n",
       "1150  2022-09-15  Microsoft Auto Parser               0.003         0.001   \n",
       "983   01-11-2020        Initial Parsing                 NaN           NaN   \n",
       "45    10-11-2021                 Manual                 NaN           NaN   \n",
       "75    2022-09-08       Dell Auto Parser               0.140         0.011   \n",
       "51    20-01-2022                 Manual                 NaN           NaN   \n",
       "\n",
       "     comment  \n",
       "1150     NaN  \n",
       "983      NaN  \n",
       "45       NaN  \n",
       "75       NaN  \n",
       "51       NaN  \n",
       "\n",
       "[5 rows x 24 columns]"
      ]
     },
     "execution_count": 4,
     "metadata": {},
     "output_type": "execute_result"
    }
   ],
   "source": [
    "df.sample(5)"
   ]
  },
  {
   "cell_type": "markdown",
   "id": "2d32c343",
   "metadata": {},
   "source": [
    "Take a look at the columns that are there, with an explanation from boavizta below the cell."
   ]
  },
  {
   "cell_type": "code",
   "execution_count": 5,
   "id": "f72efa34",
   "metadata": {},
   "outputs": [
    {
     "data": {
      "text/plain": [
       "<bound method IndexOpsMixin.tolist of Index(['manufacturer', 'name', 'category', 'subcategory', 'gwp_total',\n",
       "       'gwp_use_ratio', 'yearly_tec', 'lifetime', 'use_location',\n",
       "       'report_date', 'sources', 'sources_hash', 'gwp_manufacturing_ratio',\n",
       "       'weight', 'assembly_location', 'screen_size', 'server_type',\n",
       "       'hard_drive', 'memory', 'added_date', 'add_method',\n",
       "       'gwp_transport_ratio', 'gwp_eol_ratio', 'comment'],\n",
       "      dtype='object')>"
      ]
     },
     "execution_count": 5,
     "metadata": {},
     "output_type": "execute_result"
    }
   ],
   "source": [
    "df.columns.to_list"
   ]
  },
  {
   "cell_type": "markdown",
   "id": "e0147039",
   "metadata": {},
   "source": [
    "- <b>manufacturer</b>: Manufacturer name, e.g. \"Dell\" or \"HP\"<br>\n",
    "- <b>name</b>: Product name\n",
    "- <b>category</b>:\n",
    "    - <b>Workplace</b>: product commonly used in a workplace\n",
    "    - <b>Datacenter</b>: product commonly used in a data center (e.g. server, network switch, etc.)\n",
    "- <b>gwp_total</b>: GHG emissions (estimated as CO2 equivalent, the unit is kgCO2eq) through the total lifecycle of the product (Manufacturing, Transportation, Use phase and Recycling)\n",
    "- <b>gwp_use_ratio</b>: part of the GHG emissions coming from the use phase (the hypothesis for this use phase are detailed in the other columns, especially the lifetime and the use_location)\n",
    "- <b>yearly_tec</b>: Yearly estimated energy demand in kWh\n",
    "- <b>lifetime</b>: Expected lifetime (in years)\n",
    "- <b>use_location</b>: The region of the world in which the device usage footprint has been estimated.\n",
    "    - <b>US:</b> United States of America\n",
    "    - <b>EU:</b> Europe\n",
    "    - <b>DE:</b> Germany\n",
    "    - <b>CN:</b> China\n",
    "    - <b>WW:</b> Worldwide\n",
    "- <b>report_date</b>: the date at which the Product Carbon Footprint report of the device was published\n",
    "- <b>sources</b>: the original URLs from which the data for this row was sourced\n",
    "- <b>gwp_error_ratio</b>: the datasheets commonly come with a diagram that shows the error margin for the footprint gwp_manufacturing_ratio part of the GHG emissions coming from the manufacturing phase\n",
    "- <b>weight</b>: product weight in kg\n",
    "- <b>assembly_location</b>: The region of the world in which the device is assembled\n",
    "    - <b>US:</b> United States of America\n",
    "    - <b>EU:</b> Europe\n",
    "    - <b>CN:</b> China\n",
    "    - <b>Asia</b>: Asia\n",
    "- <b>screen_size</b>: in inches\n",
    "- <b>server_type</b>: the type of server\n",
    "- <b>hard_drive</b>: the hard drive of the device if any\n",
    "- <b>memory</b>: RAM in GB\n",
    "- <b>number_cpu</b>: number of CPUs\n",
    "- <b>height</b>: the height of the device in a datacenter rack, in U\n",
    "- <b>added_date</b>: the date at which this row was added\n",
    "- <b>add_method</b>: how was the data for this row collected"
   ]
  },
  {
   "cell_type": "markdown",
   "id": "e34e1619",
   "metadata": {},
   "source": [
    "## Transforming the Data"
   ]
  },
  {
   "cell_type": "markdown",
   "id": "b51761d0",
   "metadata": {},
   "source": [
    "We want to average the collection of data over two categories:\n",
    "- Subcategory (e.g. Laptop)\n",
    "- A screen upper and lower bound (e.g. greater than or equal to 14\")<br>\n",
    "\n",
    "The upper and lower bound will be different for each subcategory.<br>\n",
    "For some subcategories, say printer, there won't be a relevant screen bound.<br><br>\n",
    "This will involve <b>splitting</b> the data, <b>applying</b> some transformations and then <b>rejoining</b>.<br><br> I'll save you most of the details. I'd recommend taking a look at the code just if you want to verify it.<br><br>\n",
    "I use the same function extensively to make the screen upper and lower bounds, which I define below.<br>\n",
    "I also make a group by object, which groups by subcategory."
   ]
  },
  {
   "cell_type": "code",
   "execution_count": 6,
   "id": "5e6e4f9c",
   "metadata": {},
   "outputs": [],
   "source": [
    "def group_screens(screen_size, number):\n",
    "    if screen_size < number:\n",
    "        return \"<\"+str(number)\n",
    "    elif screen_size >= number:\n",
    "        return str(number)+\"+\"\n",
    "    else:\n",
    "        return 0\n",
    "\n",
    "subcats = df.copy().groupby('subcategory')"
   ]
  },
  {
   "cell_type": "markdown",
   "id": "2eac279c",
   "metadata": {},
   "source": [
    "### Tranforming Monitors"
   ]
  },
  {
   "cell_type": "code",
   "execution_count": 7,
   "id": "1ad1b9f3",
   "metadata": {},
   "outputs": [
    {
     "name": "stderr",
     "output_type": "stream",
     "text": [
      "C:\\Users\\TomBurdge\\AppData\\Local\\Temp\\ipykernel_6356\\2784464728.py:8: FutureWarning: Dropping of nuisance columns in DataFrame reductions (with 'numeric_only=None') is deprecated; in a future version this will raise TypeError.  Select only valid columns before calling the reduction.\n",
      "  avg_monitor = monitor.mean()\n"
     ]
    }
   ],
   "source": [
    "#Makes a copy the part of the grouped dataframe which where subcategory is monitor\n",
    "monitor = subcats.get_group('Monitor').copy()\n",
    "#Applies screen group, with an upper and lower bound of 33\n",
    "monitor['screen_group'] = monitor.apply(lambda x: group_screens(x['screen_size'],\n",
    "                                                                number=33),\n",
    "                                                                axis=1)\n",
    "#Gets an average of *all* of the monitors. This is useful for when our data lacks screen size.\n",
    "avg_monitor = monitor.mean()\n",
    "avg_monitor['subcategory'] = 'Average Monitor'\n",
    "#Drops the monitors (already used in the average) which lack a recorded screen size\n",
    "monitor = monitor[monitor['screen_size'].notna()]\n",
    "monitor['subcategory'] = monitor['subcategory'] + \" \" + monitor['screen_group']"
   ]
  },
  {
   "cell_type": "markdown",
   "id": "bfa7ff67",
   "metadata": {},
   "source": [
    "### Rinse and repeat this transformation for Laptops"
   ]
  },
  {
   "cell_type": "code",
   "execution_count": 8,
   "id": "16ca7562",
   "metadata": {},
   "outputs": [
    {
     "name": "stderr",
     "output_type": "stream",
     "text": [
      "C:\\Users\\TomBurdge\\AppData\\Local\\Temp\\ipykernel_6356\\695722128.py:8: FutureWarning: Dropping of nuisance columns in DataFrame reductions (with 'numeric_only=None') is deprecated; in a future version this will raise TypeError.  Select only valid columns before calling the reduction.\n",
      "  avg_laptop = laptop.mean()\n"
     ]
    }
   ],
   "source": [
    "#Makes a copy the part of the grouped dataframe which where subcategory is laptop\n",
    "laptop = subcats.get_group('Laptop').copy()\n",
    "#Applies screen group, with an upper and lower bound of 14\n",
    "laptop['screen_group'] = laptop.apply(lambda x: group_screens(x['screen_size'],\n",
    "                                                              number=14), \n",
    "                                                              axis=1)\n",
    "#Gets an average of all of the laptops.\n",
    "avg_laptop = laptop.mean()\n",
    "avg_laptop['subcategory'] = 'Average Laptop'\n",
    "#Drops the monitors (already used in the average) which lack a recorded screen size\n",
    "laptop = laptop[laptop['screen_size'].notna()]\n",
    "laptop['subcategory'] = laptop['subcategory'] + \" \" + laptop['screen_group']"
   ]
  },
  {
   "cell_type": "markdown",
   "id": "dddc8e3d",
   "metadata": {},
   "source": [
    "### Need to do something slightly different for desktops that don't have a screen size."
   ]
  },
  {
   "cell_type": "markdown",
   "id": "7d725b00",
   "metadata": {},
   "source": [
    "For desktops, it is standard to distinguish between desktops (without screends) and desktop all-in-ones (with screen, keyboard, and mouse).<br>\n",
    "Boavizta's database doesn't do this, but <b>we<b/> can by distinguishing between whether it has a screen or not"
   ]
  },
  {
   "cell_type": "code",
   "execution_count": 9,
   "id": "88893562",
   "metadata": {},
   "outputs": [
    {
     "name": "stderr",
     "output_type": "stream",
     "text": [
      "C:\\Users\\TomBurdge\\AppData\\Local\\Temp\\ipykernel_6356\\2085705383.py:11: SettingWithCopyWarning: \n",
      "A value is trying to be set on a copy of a slice from a DataFrame.\n",
      "Try using .loc[row_indexer,col_indexer] = value instead\n",
      "\n",
      "See the caveats in the documentation: https://pandas.pydata.org/pandas-docs/stable/user_guide/indexing.html#returning-a-view-versus-a-copy\n",
      "  all_in_one['subcategory'] = \"All-in-One \" + all_in_one[\"screen_group\"]\n",
      "C:\\Users\\TomBurdge\\AppData\\Local\\Temp\\ipykernel_6356\\2085705383.py:13: FutureWarning: Dropping of nuisance columns in DataFrame reductions (with 'numeric_only=None') is deprecated; in a future version this will raise TypeError.  Select only valid columns before calling the reduction.\n",
      "  avg_a_i_o = all_in_one.mean()\n"
     ]
    }
   ],
   "source": [
    "#Makes a copy the part of the grouped dataframe which where subcategory is desktop\n",
    "boavizta_desktop = subcats.get_group('Desktop').copy()\n",
    "#Applies screen group, with an upper and lower bound of 14\n",
    "boavizta_desktop['screen_group'] = boavizta_desktop.apply(lambda x: \n",
    "                                                 group_screens(x['screen_size'],\n",
    "                                                 number=24), \n",
    "                                                 axis=1)\n",
    "#Drops the monitors (already used in the average) which lack a recorded screen size\n",
    "all_in_one = boavizta_desktop[boavizta_desktop['screen_size'].notna()]\n",
    "#assigns a new subcategory as all in one to this new subgroup along with the screen group\n",
    "all_in_one['subcategory'] = \"All-in-One \" + all_in_one[\"screen_group\"]\n",
    "#Gets an average of all desktops with a screen size. These are called an 'All-in-One'\n",
    "avg_a_i_o = all_in_one.mean()\n",
    "avg_a_i_o['subcategory'] = 'Average All-in-One'"
   ]
  },
  {
   "cell_type": "markdown",
   "id": "e93e2de0",
   "metadata": {},
   "source": [
    "Above, we have treated All-in-Ones, now we need to treat the desktops without a screen and keyboard.\n",
    "The laptops without a screen are:"
   ]
  },
  {
   "cell_type": "code",
   "execution_count": 10,
   "id": "c084d161",
   "metadata": {},
   "outputs": [],
   "source": [
    "desktop = boavizta_desktop[~boavizta_desktop['screen_size'].notna()]"
   ]
  },
  {
   "cell_type": "markdown",
   "id": "61c61692",
   "metadata": {},
   "source": [
    "Let's make an average of the desktops."
   ]
  },
  {
   "cell_type": "code",
   "execution_count": 11,
   "id": "c71cef93",
   "metadata": {},
   "outputs": [
    {
     "name": "stderr",
     "output_type": "stream",
     "text": [
      "C:\\Users\\TomBurdge\\AppData\\Local\\Temp\\ipykernel_6356\\4123310747.py:1: FutureWarning: Dropping of nuisance columns in DataFrame reductions (with 'numeric_only=None') is deprecated; in a future version this will raise TypeError.  Select only valid columns before calling the reduction.\n",
      "  avg_desktop = desktop.mean()\n"
     ]
    }
   ],
   "source": [
    "avg_desktop = desktop.mean()\n",
    "avg_desktop['subcategory'] = 'Average Desktop'"
   ]
  },
  {
   "cell_type": "markdown",
   "id": "107de5eb",
   "metadata": {},
   "source": [
    "Now, we need to define a function that will break them into each of the main sizes:\n",
    "- Ultra Small Desktop\n",
    "- Small Form Factor\n",
    "- Tower"
   ]
  },
  {
   "cell_type": "markdown",
   "id": "37adea3d",
   "metadata": {},
   "source": [
    "For this, we'll need the regex module to find matching products."
   ]
  },
  {
   "cell_type": "code",
   "execution_count": 12,
   "id": "458b494b",
   "metadata": {},
   "outputs": [],
   "source": [
    "import re"
   ]
  },
  {
   "cell_type": "markdown",
   "id": "b8a865ee",
   "metadata": {},
   "source": [
    "Here we use a simple regex to get the desktops of the various types:"
   ]
  },
  {
   "cell_type": "code",
   "execution_count": 13,
   "id": "82d32f46",
   "metadata": {},
   "outputs": [
    {
     "name": "stderr",
     "output_type": "stream",
     "text": [
      "C:\\Users\\TomBurdge\\AppData\\Local\\Temp\\ipykernel_6356\\3208305278.py:4: SettingWithCopyWarning: \n",
      "A value is trying to be set on a copy of a slice from a DataFrame.\n",
      "Try using .loc[row_indexer,col_indexer] = value instead\n",
      "\n",
      "See the caveats in the documentation: https://pandas.pydata.org/pandas-docs/stable/user_guide/indexing.html#returning-a-view-versus-a-copy\n",
      "  desktop_tower['subcategory'] = 'Desktop Tower'\n"
     ]
    }
   ],
   "source": [
    "#Lots of desktop towers which contain 'Tower' in the name cell\n",
    "desktop_tower = desktop[desktop['name'].str.contains(r'Tower')==True]\n",
    "#make the dataframe's subcategory Desktop Tower\n",
    "desktop_tower['subcategory'] = 'Desktop Tower'\n",
    "\n",
    "# Small form factors which contain 'SFF' or 'Small Form Factor' in the name cell\n",
    "desktop_SFF = desktop[desktop['name'].str.contains(r'SFF')==True]\n",
    "desktop_SFF = pd.concat([desktop_SFF, \n",
    "                                  desktop[desktop['name'].str.contains(r'Small Form Factor')==True]])\n",
    "#make the dataframe's subcategory Desktop SFF\n",
    "desktop_SFF['subcategory'] = 'Desktop SFF'\n",
    "\n",
    "#Ultra Small Desktops which contain the following in the 'name' cell\n",
    "desktop_USDT = desktop[desktop['name'].str.contains(r'USDT')==True]\n",
    "desktop_USDT = pd.concat([desktop_USDT,\n",
    "                        desktop[desktop['name'].str.contains(r'Tiny')==True],\n",
    "                        desktop[desktop['name'].str.contains(r'Micro')==True],\n",
    "                        desktop[desktop['name'].str.contains(r'Nano')==True]])\n",
    "#make the dataframe's subcategory Desktop USDT\n",
    "desktop_USDT['subcategory'] = 'Desktop USDT'"
   ]
  },
  {
   "cell_type": "markdown",
   "id": "3fd8cb85",
   "metadata": {},
   "source": [
    "## Now, we can rejoin the entire Dataframe"
   ]
  },
  {
   "cell_type": "markdown",
   "id": "81bccd94",
   "metadata": {},
   "source": [
    "We have the following dataframes named:\n",
    "- monitor\n",
    "- avg_monitor\n",
    "- laptop\n",
    "- avg_laptop\n",
    "- all_in_one\n",
    "- avg_a_i_o\n",
    "- desktop_tower\n",
    "- desktop_SFF\n",
    "- desktop_USDT\n",
    "- avg_desktop\n",
    "<br><br>\n",
    "<i>(Note: we made separate desktops for the averages because all columns need to be matching. We could have done join but it's no less fiddly)</i>"
   ]
  },
  {
   "cell_type": "markdown",
   "id": "3e14f6fb",
   "metadata": {},
   "source": [
    "Now, we can rejoin all of dataframes, where the subcategories are those that we wish to pivot over."
   ]
  },
  {
   "cell_type": "code",
   "execution_count": 14,
   "id": "fbd3532c",
   "metadata": {
    "scrolled": true
   },
   "outputs": [],
   "source": [
    "df_list = [monitor, avg_monitor.to_frame().transpose(),\n",
    "           laptop, avg_laptop.to_frame().transpose(),\n",
    "           all_in_one, avg_a_i_o.to_frame().transpose(), \n",
    "           desktop_tower, desktop_SFF, desktop_USDT, avg_desktop.to_frame().transpose()]\n",
    "df_rejoined = pd.concat(df_list)"
   ]
  },
  {
   "cell_type": "code",
   "execution_count": 15,
   "id": "33dedd9b",
   "metadata": {},
   "outputs": [
    {
     "data": {
      "text/plain": [
       "Laptop         447\n",
       "Monitor        294\n",
       "Desktop        255\n",
       "Smartphone      40\n",
       "Tablet          14\n",
       "Thin Client     11\n",
       "Printer         11\n",
       "Thin client      5\n",
       "Workstation      4\n",
       "Name: subcategory, dtype: int64"
      ]
     },
     "execution_count": 15,
     "metadata": {},
     "output_type": "execute_result"
    }
   ],
   "source": [
    "df['subcategory'].value_counts()"
   ]
  },
  {
   "cell_type": "markdown",
   "id": "26976c7e",
   "metadata": {},
   "source": [
    "Now, we need to rejoin this with <u>those subcategories which we did not need to modify</u><br>\n",
    "These were members of the subcategories:\n",
    "- Tablet\n",
    "- Smartphone\n",
    "- Printer\n",
    "- Workstation\n",
    "<br><br>\n",
    "To do this, we can concat them with rejoined:"
   ]
  },
  {
   "cell_type": "code",
   "execution_count": 16,
   "id": "4cc6360f",
   "metadata": {},
   "outputs": [],
   "source": [
    "df_unchanged = df[(df['subcategory']=='Tablet') \n",
    "                  |(df['subcategory']=='Smartphone')\n",
    "                  |(df['subcategory']=='Printer')\n",
    "                  |(df['subcategory']=='Workstation')]\n",
    "\n",
    "df_rejoined = pd.concat([df_rejoined, df_unchanged])"
   ]
  },
  {
   "cell_type": "markdown",
   "id": "a5a37573",
   "metadata": {},
   "source": [
    "We now have the dataframe that we will pivot over."
   ]
  },
  {
   "cell_type": "markdown",
   "id": "288642d7",
   "metadata": {},
   "source": [
    "## Make a pivot from the joined dataframe"
   ]
  },
  {
   "cell_type": "markdown",
   "id": "23895406",
   "metadata": {},
   "source": [
    "All we need to do is pivot the numerical values into a mean across subcategories."
   ]
  },
  {
   "cell_type": "code",
   "execution_count": 17,
   "id": "7d75efa2",
   "metadata": {},
   "outputs": [
    {
     "name": "stderr",
     "output_type": "stream",
     "text": [
      "C:\\Users\\TomBurdge\\AppData\\Local\\Temp\\ipykernel_6356\\3960562440.py:1: FutureWarning: Dropping invalid columns in DataFrameGroupBy.mean is deprecated. In a future version, a TypeError will be raised. Before calling .mean, select only columns which should be valid for the function.\n",
      "  df_pivot = df_rejoined.copy().pivot_table(index = 'subcategory', aggfunc = 'mean')\n"
     ]
    },
    {
     "data": {
      "text/html": [
       "<div>\n",
       "<style scoped>\n",
       "    .dataframe tbody tr th:only-of-type {\n",
       "        vertical-align: middle;\n",
       "    }\n",
       "\n",
       "    .dataframe tbody tr th {\n",
       "        vertical-align: top;\n",
       "    }\n",
       "\n",
       "    .dataframe thead th {\n",
       "        text-align: right;\n",
       "    }\n",
       "</style>\n",
       "<table border=\"1\" class=\"dataframe\">\n",
       "  <thead>\n",
       "    <tr style=\"text-align: right;\">\n",
       "      <th></th>\n",
       "      <th>gwp_eol_ratio</th>\n",
       "      <th>gwp_manufacturing_ratio</th>\n",
       "      <th>gwp_total</th>\n",
       "      <th>gwp_transport_ratio</th>\n",
       "      <th>gwp_use_ratio</th>\n",
       "      <th>lifetime</th>\n",
       "      <th>screen_size</th>\n",
       "      <th>weight</th>\n",
       "      <th>yearly_tec</th>\n",
       "    </tr>\n",
       "    <tr>\n",
       "      <th>subcategory</th>\n",
       "      <th></th>\n",
       "      <th></th>\n",
       "      <th></th>\n",
       "      <th></th>\n",
       "      <th></th>\n",
       "      <th></th>\n",
       "      <th></th>\n",
       "      <th></th>\n",
       "      <th></th>\n",
       "    </tr>\n",
       "  </thead>\n",
       "  <tbody>\n",
       "    <tr>\n",
       "      <th>All-in-One 24+</th>\n",
       "      <td>0.009333</td>\n",
       "      <td>0.503706</td>\n",
       "      <td>729.400586</td>\n",
       "      <td>0.093133</td>\n",
       "      <td>0.357034</td>\n",
       "      <td>3.526316</td>\n",
       "      <td>25.810345</td>\n",
       "      <td>9.207789</td>\n",
       "      <td>92.733050</td>\n",
       "    </tr>\n",
       "    <tr>\n",
       "      <th>All-in-One &lt;24</th>\n",
       "      <td>0.005573</td>\n",
       "      <td>0.754356</td>\n",
       "      <td>442.702627</td>\n",
       "      <td>0.049024</td>\n",
       "      <td>0.392504</td>\n",
       "      <td>3.972973</td>\n",
       "      <td>8.932203</td>\n",
       "      <td>4.361871</td>\n",
       "      <td>55.025867</td>\n",
       "    </tr>\n",
       "    <tr>\n",
       "      <th>Average All-in-One</th>\n",
       "      <td>0.005852</td>\n",
       "      <td>0.718246</td>\n",
       "      <td>499.262088</td>\n",
       "      <td>0.055776</td>\n",
       "      <td>0.385261</td>\n",
       "      <td>3.907692</td>\n",
       "      <td>12.261905</td>\n",
       "      <td>5.043889</td>\n",
       "      <td>57.671985</td>\n",
       "    </tr>\n",
       "    <tr>\n",
       "      <th>Average Desktop</th>\n",
       "      <td>NaN</td>\n",
       "      <td>0.447657</td>\n",
       "      <td>673.668815</td>\n",
       "      <td>NaN</td>\n",
       "      <td>0.475491</td>\n",
       "      <td>4.171296</td>\n",
       "      <td>NaN</td>\n",
       "      <td>7.593024</td>\n",
       "      <td>170.416714</td>\n",
       "    </tr>\n",
       "    <tr>\n",
       "      <th>Average Laptop</th>\n",
       "      <td>0.002377</td>\n",
       "      <td>0.798919</td>\n",
       "      <td>309.873826</td>\n",
       "      <td>0.034445</td>\n",
       "      <td>0.189894</td>\n",
       "      <td>4.135731</td>\n",
       "      <td>13.927139</td>\n",
       "      <td>1.823987</td>\n",
       "      <td>20.246444</td>\n",
       "    </tr>\n",
       "    <tr>\n",
       "      <th>Average Monitor</th>\n",
       "      <td>0.004243</td>\n",
       "      <td>0.618966</td>\n",
       "      <td>566.142007</td>\n",
       "      <td>0.040441</td>\n",
       "      <td>0.333311</td>\n",
       "      <td>5.404762</td>\n",
       "      <td>25.356794</td>\n",
       "      <td>7.111847</td>\n",
       "      <td>55.863532</td>\n",
       "    </tr>\n",
       "    <tr>\n",
       "      <th>Desktop SFF</th>\n",
       "      <td>NaN</td>\n",
       "      <td>0.472667</td>\n",
       "      <td>624.448276</td>\n",
       "      <td>NaN</td>\n",
       "      <td>0.485931</td>\n",
       "      <td>4.000000</td>\n",
       "      <td>NaN</td>\n",
       "      <td>5.619091</td>\n",
       "      <td>97.027222</td>\n",
       "    </tr>\n",
       "    <tr>\n",
       "      <th>Desktop Tower</th>\n",
       "      <td>NaN</td>\n",
       "      <td>0.387632</td>\n",
       "      <td>869.588235</td>\n",
       "      <td>NaN</td>\n",
       "      <td>0.537441</td>\n",
       "      <td>4.205882</td>\n",
       "      <td>NaN</td>\n",
       "      <td>11.012143</td>\n",
       "      <td>252.133158</td>\n",
       "    </tr>\n",
       "    <tr>\n",
       "      <th>Desktop USDT</th>\n",
       "      <td>NaN</td>\n",
       "      <td>0.605500</td>\n",
       "      <td>357.582476</td>\n",
       "      <td>NaN</td>\n",
       "      <td>0.316000</td>\n",
       "      <td>4.095238</td>\n",
       "      <td>NaN</td>\n",
       "      <td>2.494533</td>\n",
       "      <td>40.046667</td>\n",
       "    </tr>\n",
       "    <tr>\n",
       "      <th>Laptop 14+</th>\n",
       "      <td>0.001538</td>\n",
       "      <td>0.797602</td>\n",
       "      <td>332.477273</td>\n",
       "      <td>0.029494</td>\n",
       "      <td>0.198187</td>\n",
       "      <td>4.221569</td>\n",
       "      <td>14.812121</td>\n",
       "      <td>1.947425</td>\n",
       "      <td>22.058214</td>\n",
       "    </tr>\n",
       "    <tr>\n",
       "      <th>Laptop &lt;14</th>\n",
       "      <td>0.002174</td>\n",
       "      <td>0.808483</td>\n",
       "      <td>276.544828</td>\n",
       "      <td>0.033508</td>\n",
       "      <td>0.180152</td>\n",
       "      <td>4.070922</td>\n",
       "      <td>12.315862</td>\n",
       "      <td>1.331935</td>\n",
       "      <td>18.037530</td>\n",
       "    </tr>\n",
       "    <tr>\n",
       "      <th>Monitor 33+</th>\n",
       "      <td>0.003533</td>\n",
       "      <td>0.473150</td>\n",
       "      <td>1275.272727</td>\n",
       "      <td>0.025333</td>\n",
       "      <td>0.395810</td>\n",
       "      <td>5.772727</td>\n",
       "      <td>44.909091</td>\n",
       "      <td>25.573386</td>\n",
       "      <td>171.600914</td>\n",
       "    </tr>\n",
       "    <tr>\n",
       "      <th>Monitor &lt;33</th>\n",
       "      <td>0.004266</td>\n",
       "      <td>0.637612</td>\n",
       "      <td>496.642453</td>\n",
       "      <td>0.042947</td>\n",
       "      <td>0.325975</td>\n",
       "      <td>5.384906</td>\n",
       "      <td>23.733585</td>\n",
       "      <td>5.622970</td>\n",
       "      <td>43.890699</td>\n",
       "    </tr>\n",
       "    <tr>\n",
       "      <th>Printer</th>\n",
       "      <td>NaN</td>\n",
       "      <td>NaN</td>\n",
       "      <td>8435.454545</td>\n",
       "      <td>NaN</td>\n",
       "      <td>0.977673</td>\n",
       "      <td>5.000000</td>\n",
       "      <td>NaN</td>\n",
       "      <td>NaN</td>\n",
       "      <td>42.101818</td>\n",
       "    </tr>\n",
       "    <tr>\n",
       "      <th>Smartphone</th>\n",
       "      <td>0.011500</td>\n",
       "      <td>0.761075</td>\n",
       "      <td>63.454054</td>\n",
       "      <td>0.073750</td>\n",
       "      <td>0.174575</td>\n",
       "      <td>2.950000</td>\n",
       "      <td>195.806500</td>\n",
       "      <td>0.194467</td>\n",
       "      <td>7.692308</td>\n",
       "    </tr>\n",
       "    <tr>\n",
       "      <th>Tablet</th>\n",
       "      <td>0.008429</td>\n",
       "      <td>0.639857</td>\n",
       "      <td>105.450000</td>\n",
       "      <td>0.066357</td>\n",
       "      <td>0.267857</td>\n",
       "      <td>2.785714</td>\n",
       "      <td>11.133333</td>\n",
       "      <td>0.685833</td>\n",
       "      <td>14.526667</td>\n",
       "    </tr>\n",
       "    <tr>\n",
       "      <th>Workstation</th>\n",
       "      <td>0.001000</td>\n",
       "      <td>0.443000</td>\n",
       "      <td>2740.250000</td>\n",
       "      <td>0.003000</td>\n",
       "      <td>0.366000</td>\n",
       "      <td>4.000000</td>\n",
       "      <td>NaN</td>\n",
       "      <td>NaN</td>\n",
       "      <td>195.100000</td>\n",
       "    </tr>\n",
       "  </tbody>\n",
       "</table>\n",
       "</div>"
      ],
      "text/plain": [
       "                    gwp_eol_ratio  gwp_manufacturing_ratio    gwp_total  \\\n",
       "subcategory                                                               \n",
       "All-in-One 24+           0.009333                 0.503706   729.400586   \n",
       "All-in-One <24           0.005573                 0.754356   442.702627   \n",
       "Average All-in-One       0.005852                 0.718246   499.262088   \n",
       "Average Desktop               NaN                 0.447657   673.668815   \n",
       "Average Laptop           0.002377                 0.798919   309.873826   \n",
       "Average Monitor          0.004243                 0.618966   566.142007   \n",
       "Desktop SFF                   NaN                 0.472667   624.448276   \n",
       "Desktop Tower                 NaN                 0.387632   869.588235   \n",
       "Desktop USDT                  NaN                 0.605500   357.582476   \n",
       "Laptop 14+               0.001538                 0.797602   332.477273   \n",
       "Laptop <14               0.002174                 0.808483   276.544828   \n",
       "Monitor 33+              0.003533                 0.473150  1275.272727   \n",
       "Monitor <33              0.004266                 0.637612   496.642453   \n",
       "Printer                       NaN                      NaN  8435.454545   \n",
       "Smartphone               0.011500                 0.761075    63.454054   \n",
       "Tablet                   0.008429                 0.639857   105.450000   \n",
       "Workstation              0.001000                 0.443000  2740.250000   \n",
       "\n",
       "                    gwp_transport_ratio  gwp_use_ratio  lifetime  screen_size  \\\n",
       "subcategory                                                                     \n",
       "All-in-One 24+                 0.093133       0.357034  3.526316    25.810345   \n",
       "All-in-One <24                 0.049024       0.392504  3.972973     8.932203   \n",
       "Average All-in-One             0.055776       0.385261  3.907692    12.261905   \n",
       "Average Desktop                     NaN       0.475491  4.171296          NaN   \n",
       "Average Laptop                 0.034445       0.189894  4.135731    13.927139   \n",
       "Average Monitor                0.040441       0.333311  5.404762    25.356794   \n",
       "Desktop SFF                         NaN       0.485931  4.000000          NaN   \n",
       "Desktop Tower                       NaN       0.537441  4.205882          NaN   \n",
       "Desktop USDT                        NaN       0.316000  4.095238          NaN   \n",
       "Laptop 14+                     0.029494       0.198187  4.221569    14.812121   \n",
       "Laptop <14                     0.033508       0.180152  4.070922    12.315862   \n",
       "Monitor 33+                    0.025333       0.395810  5.772727    44.909091   \n",
       "Monitor <33                    0.042947       0.325975  5.384906    23.733585   \n",
       "Printer                             NaN       0.977673  5.000000          NaN   \n",
       "Smartphone                     0.073750       0.174575  2.950000   195.806500   \n",
       "Tablet                         0.066357       0.267857  2.785714    11.133333   \n",
       "Workstation                    0.003000       0.366000  4.000000          NaN   \n",
       "\n",
       "                       weight  yearly_tec  \n",
       "subcategory                                \n",
       "All-in-One 24+       9.207789   92.733050  \n",
       "All-in-One <24       4.361871   55.025867  \n",
       "Average All-in-One   5.043889   57.671985  \n",
       "Average Desktop      7.593024  170.416714  \n",
       "Average Laptop       1.823987   20.246444  \n",
       "Average Monitor      7.111847   55.863532  \n",
       "Desktop SFF          5.619091   97.027222  \n",
       "Desktop Tower       11.012143  252.133158  \n",
       "Desktop USDT         2.494533   40.046667  \n",
       "Laptop 14+           1.947425   22.058214  \n",
       "Laptop <14           1.331935   18.037530  \n",
       "Monitor 33+         25.573386  171.600914  \n",
       "Monitor <33          5.622970   43.890699  \n",
       "Printer                   NaN   42.101818  \n",
       "Smartphone           0.194467    7.692308  \n",
       "Tablet               0.685833   14.526667  \n",
       "Workstation               NaN  195.100000  "
      ]
     },
     "execution_count": 17,
     "metadata": {},
     "output_type": "execute_result"
    }
   ],
   "source": [
    "df_pivot = df_rejoined.copy().pivot_table(index = 'subcategory', aggfunc = 'mean')\n",
    "\n",
    "#df_pivot.to_csv('product-categories.csv')\n",
    "\n",
    "df_pivot"
   ]
  },
  {
   "cell_type": "markdown",
   "id": "25c5f116",
   "metadata": {},
   "source": [
    "For this calculation, we need to get the actual average **amounts** as a percent of total for:\n",
    "- New manufacturing\n",
    "- Transport from new production and to waste handling\n",
    "- End-of-life waste handling"
   ]
  },
  {
   "cell_type": "markdown",
   "id": "1b827918",
   "metadata": {},
   "source": [
    "Currently, we just have the ratio not the value. We can get this quite easily:<br>\n",
    "For "
   ]
  },
  {
   "cell_type": "code",
   "execution_count": 18,
   "id": "077a65d9",
   "metadata": {},
   "outputs": [],
   "source": [
    "df_pivot['gwp_manufacturing_val']=df_pivot['gwp_total']*df_pivot['gwp_manufacturing_ratio'].fillna(0)\n",
    "df_pivot['gwp_transport_val']=df_pivot['gwp_total']*df_pivot['gwp_transport_ratio'].fillna(0)\n",
    "df_pivot['gwp_eol_val']=df_pivot['gwp_total']*df_pivot['gwp_eol_ratio'].fillna(0)"
   ]
  },
  {
   "cell_type": "markdown",
   "id": "2a01ee33",
   "metadata": {},
   "source": [
    "From this, we can know the figure that will go in our calculation (the sum of the three above columns we just made):"
   ]
  },
  {
   "cell_type": "code",
   "execution_count": 21,
   "id": "246f04f6",
   "metadata": {},
   "outputs": [],
   "source": [
    "#Now, actually making the column\n",
    "df_pivot['gwp_man_trans_eol_sum'] = df_pivot['gwp_manufacturing_val']+df_pivot['gwp_transport_val']+df_pivot['gwp_eol_val']"
   ]
  },
  {
   "cell_type": "markdown",
   "id": "e4c1d23f",
   "metadata": {},
   "source": [
    "I've saved this in the CSVs file as 'boavizta-product-averages.csv'"
   ]
  },
  {
   "cell_type": "code",
   "execution_count": 22,
   "id": "ebf31fe2",
   "metadata": {},
   "outputs": [],
   "source": [
    "df_pivot.to_csv('CSVs/boavizta-product-averages.csv')"
   ]
  }
 ],
 "metadata": {
  "kernelspec": {
   "display_name": "Python 3 (ipykernel)",
   "language": "python",
   "name": "python3"
  },
  "language_info": {
   "codemirror_mode": {
    "name": "ipython",
    "version": 3
   },
   "file_extension": ".py",
   "mimetype": "text/x-python",
   "name": "python",
   "nbconvert_exporter": "python",
   "pygments_lexer": "ipython3",
   "version": "3.9.13"
  }
 },
 "nbformat": 4,
 "nbformat_minor": 5
}
