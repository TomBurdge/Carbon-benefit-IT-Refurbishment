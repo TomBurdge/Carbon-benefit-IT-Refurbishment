{
 "cells": [
  {
   "cell_type": "markdown",
   "id": "d3a555ae",
   "metadata": {},
   "source": [
    "# Performing the Calculation"
   ]
  },
  {
   "cell_type": "markdown",
   "id": "eb6dd2cd",
   "metadata": {},
   "source": [
    "Now that we have performed the transformation on the boavizta files, we can perform the calculation with an accurate database.<br><br>\n",
    "The other data that goes into the calculation you will need to fill in here, such as:\n",
    "- Number of devices refurbished by type\n",
    "- Yearly carbon emissions for your facility\n",
    "- Pickup location and sales location"
   ]
  },
  {
   "cell_type": "code",
   "execution_count": null,
   "id": "26c4ec66",
   "metadata": {},
   "outputs": [],
   "source": [
    "import pandas as pd"
   ]
  },
  {
   "cell_type": "markdown",
   "id": "edd968c0",
   "metadata": {},
   "source": [
    "## 1 Carbon benefit per product"
   ]
  },
  {
   "cell_type": "markdown",
   "id": "26fdd626",
   "metadata": {},
   "source": [
    "We'll import the boavizta CSV that we made:"
   ]
  },
  {
   "cell_type": "code",
   "execution_count": null,
   "id": "527a2fc2",
   "metadata": {},
   "outputs": [],
   "source": [
    "df_boavizta = pd.read_csv('CSVs/boavizta-product-averages.csv')"
   ]
  },
  {
   "cell_type": "markdown",
   "id": "d772128d",
   "metadata": {},
   "source": [
    "Now, assign below the number of each subcategory you wish to calculate for:"
   ]
  },
  {
   "cell_type": "code",
   "execution_count": null,
   "id": "5225d91c",
   "metadata": {},
   "outputs": [],
   "source": [
    "All_in_One_24_greater = 0\n",
    "All_in_One_24_less = 0\n",
    "Average_All_in_One = 0\n",
    "Average_Desktop = 0\n",
    "Average_Laptop = 0\n",
    "Average_Monitor = 0\n",
    "Desktop_SFF = 0\n",
    "Desktop_Tower = 0\n",
    "Desktop_USDT = 0\n",
    "Laptop_14_greater = 0\n",
    "Laptop_14_lesser = 0\n",
    "Monitor_33_greater = 0\n",
    "Monitor_33_lesser = 0\n",
    "Printer = 0\n",
    "Smartphone = 0\n",
    "Tablet = 0\n",
    "Workstation = 0"
   ]
  },
  {
   "cell_type": "markdown",
   "id": "1835642a",
   "metadata": {},
   "source": [
    "Now, we need to assign all of the above in the dataframe:"
   ]
  },
  {
   "cell_type": "code",
   "execution_count": null,
   "id": "16fc7944",
   "metadata": {},
   "outputs": [],
   "source": [
    "df_benefits = df_boavizta.copy()\n",
    "df_benefits.set_index('subcategory',inplace=True)\n",
    "df_benefits.loc['All-in-One 24+', 'counts']=All_in_One_24_greater\n",
    "df_benefits.loc['All-in-One <24', 'counts']=All_in_One_24_less\n",
    "df_benefits.loc['Average All-in-One', 'counts']=Average_All_in_One\n",
    "df_benefits.loc['Average Desktop', 'counts']=Average_Desktop\n",
    "df_benefits.loc['Average Laptop', 'counts']=Average_Laptop\n",
    "df_benefits.loc['Average Monitor', 'counts']=Average_Monitor\n",
    "df_benefits.loc['Desktop SFF','counts']=Desktop_SFF\n",
    "df_benefits.loc['Desktop Tower','counts']=Desktop_Tower\n",
    "df_benefits.loc['Desktop USDT','counts']=Desktop_USDT\n",
    "df_benefits.loc['Laptop 14+','counts']=Laptop_14_greater\n",
    "df_benefits.loc['Laptop <14','counts']=Laptop_14_lesser\n",
    "df_benefits.loc['Monitor 33+','counts']=Monitor_33_greater\n",
    "df_benefits.loc['Monitor <33','counts']=Monitor_33_lesser\n",
    "df_benefits.loc['Printer','counts']=Printer\n",
    "df_benefits.loc['Smartphone','counts']=Smartphone\n",
    "df_benefits.loc['Tablet','counts']=Tablet\n",
    "df_benefits.loc['Workstation','counts']=Workstation"
   ]
  },
  {
   "cell_type": "markdown",
   "id": "34de813b",
   "metadata": {},
   "source": [
    "And we'll get the total weight for each subcategory by timesing average weight by the value counts.<br>\n",
    "This will be useful for (1) when we work out the transport emisssions, and (2) when we return the total e-waste avoided."
   ]
  },
  {
   "cell_type": "code",
   "execution_count": null,
   "id": "3d4e4863",
   "metadata": {},
   "outputs": [],
   "source": [
    "df_benefits['total_weight'] = df_benefits['weight']*df_benefits['counts']"
   ]
  },
  {
   "cell_type": "markdown",
   "id": "8b8135d2",
   "metadata": {},
   "source": [
    "And we can get the benefit per subcategory:"
   ]
  },
  {
   "cell_type": "code",
   "execution_count": null,
   "id": "ce88253b",
   "metadata": {},
   "outputs": [],
   "source": [
    "df_benefits['benefit_per_subcat'] = df_benefits['counts']*df_benefits['gwp_man_trans_eol_sum']"
   ]
  },
  {
   "cell_type": "markdown",
   "id": "5a66979f",
   "metadata": {},
   "source": [
    "Now, we can get the benefit for all subcategories:"
   ]
  },
  {
   "cell_type": "code",
   "execution_count": null,
   "id": "96d260bb",
   "metadata": {},
   "outputs": [],
   "source": [
    "total_benefit = sum(df_benefits['benefit_per_subcat'])"
   ]
  },
  {
   "cell_type": "markdown",
   "id": "2e2042cb",
   "metadata": {},
   "source": [
    "## 2 Refurbishing Cost"
   ]
  },
  {
   "cell_type": "markdown",
   "id": "fbfa374f",
   "metadata": {},
   "source": [
    "Assign your organisation's scope 1 and 2 emissions in kg CO2e to the below variables:"
   ]
  },
  {
   "cell_type": "code",
   "execution_count": null,
   "id": "9c198b04",
   "metadata": {},
   "outputs": [],
   "source": [
    "scope_1 = \n",
    "scope_2 = \n",
    "scope_1_and_2 = scope_1 + scope_2"
   ]
  },
  {
   "cell_type": "markdown",
   "id": "40e79cc3",
   "metadata": {},
   "source": [
    "Assign the total number of assets per year:"
   ]
  },
  {
   "cell_type": "code",
   "execution_count": null,
   "id": "3458d1a3",
   "metadata": {},
   "outputs": [],
   "source": [
    "total_assets ="
   ]
  },
  {
   "cell_type": "markdown",
   "id": "8f08c551",
   "metadata": {},
   "source": [
    "Once we have this, we can use the following function which gets the total refurb cost:"
   ]
  },
  {
   "cell_type": "code",
   "execution_count": null,
   "id": "adaa83d1",
   "metadata": {},
   "outputs": [],
   "source": [
    "refurb_per_asset = scope_1_and_2/total_assets"
   ]
  },
  {
   "cell_type": "markdown",
   "id": "026427e3",
   "metadata": {},
   "source": [
    "Then, you can find the refurb cost by taking the count of the outputs in the calculation<br>\n",
    "(Here I'm assuming that this is a calculation for a customer rather than yourself. Otherwise, you could use the total assets figure.)"
   ]
  },
  {
   "cell_type": "code",
   "execution_count": null,
   "id": "511c1399",
   "metadata": {},
   "outputs": [],
   "source": [
    "assets_processed = df_benefits['counts'].sum()\n",
    "assets_processed"
   ]
  },
  {
   "cell_type": "code",
   "execution_count": null,
   "id": "b2a00b2d",
   "metadata": {},
   "outputs": [],
   "source": [
    "total_refurb = assets_processed*refurb_per_asset"
   ]
  },
  {
   "cell_type": "markdown",
   "id": "6a365a5d",
   "metadata": {},
   "source": [
    "## 3 Transport Cost"
   ]
  },
  {
   "cell_type": "markdown",
   "id": "d8c251b9",
   "metadata": {},
   "source": [
    "We'll use the google maps api to calculate the distances.<br>You'll need to enter your Google Maps API key below.<br>You can make a key here: https://developers.google.com/maps and they are free up to $200 worth of calls. "
   ]
  },
  {
   "cell_type": "code",
   "execution_count": null,
   "id": "05324ce2",
   "metadata": {},
   "outputs": [],
   "source": [
    "#import googlemaps #UNCOMMENT THIS LINE TO USE\n",
    "#gmaps = googlemaps.Client(key='UNCOMMENT AND ENTER YOUR API KEY HERE')"
   ]
  },
  {
   "cell_type": "markdown",
   "id": "423cc7ab",
   "metadata": {},
   "source": [
    "You'll need to assign the following locations.<br>\n",
    "Keep in mind, because the pickup and deliveries are a list you can put multiple and they will be calculated:"
   ]
  },
  {
   "cell_type": "code",
   "execution_count": null,
   "id": "3d2d9656",
   "metadata": {},
   "outputs": [],
   "source": [
    "pickup_locations = ['Full addresses that the asset came from to get to the facility']\n",
    "facility_location = 'Facility full address, where refurbishing happens.'\n",
    "delivery_locations = ['Full delivery address of items']"
   ]
  },
  {
   "cell_type": "markdown",
   "id": "61ff287c",
   "metadata": {},
   "source": [
    "To find the total distance travelled by land, we can use this function (you'll need to uncomment the columns above and put in your API key):"
   ]
  },
  {
   "cell_type": "code",
   "execution_count": null,
   "id": "2eaf8244",
   "metadata": {},
   "outputs": [],
   "source": [
    "def to_facility_distances(pickup_locations, facility_location):\n",
    "    total_distances = 0\n",
    "    for location in pickup_locations:\n",
    "        distance_result = gmaps.distance_matrix(pickup_locations, facility_location, mode=\"driving\",)\n",
    "        total_distances+=distance_result\n",
    "    return total_distances\n",
    "\n",
    "to_facility_distances = to_facility_distances(pickup_locations=pickup_locations,\n",
    "                                                facility_location=facility_location)\n",
    "\n",
    "def from_facility_distances(facility_location, delivery_locations):\n",
    "    total_distances=0\n",
    "    for location in delivery_locations:\n",
    "        distance_result = gmaps.distance_matrix(facility_location, delivery_locations, mode=\"driving\",)\n",
    "        total_distances+=distance_result\n",
    "    return total_distances\n",
    "\n",
    "from_facility_distances = from_facility_distances(facility_location=facility_location,\n",
    "                                                delivery_locations=delivery_locations)"
   ]
  },
  {
   "cell_type": "markdown",
   "id": "dc9308c2",
   "metadata": {},
   "source": [
    "To know the total emissions, we need the total weights transported.<br>\n",
    "For this, we just need to sum the total weights column:"
   ]
  },
  {
   "cell_type": "code",
   "execution_count": null,
   "id": "94d9bc5d",
   "metadata": {},
   "outputs": [],
   "source": [
    "total_weight = sum(df_benefits['total_weight'])"
   ]
  },
  {
   "cell_type": "markdown",
   "id": "fe0c536f",
   "metadata": {},
   "source": [
    "From another excel with the UK government transport emissions calculation we can determine the carbon emissions for per tonne km:"
   ]
  },
  {
   "cell_type": "code",
   "execution_count": null,
   "id": "af608a52",
   "metadata": {},
   "outputs": [],
   "source": [
    "df_emissions_calcs = pd.read_csv('CSVs/transport-conversions.csv').set_index('Transport Type')"
   ]
  },
  {
   "cell_type": "markdown",
   "id": "3dfb670e",
   "metadata": {},
   "source": [
    "Per kg kilometre is the same thing/1000.<br>\n",
    "We can do this here:"
   ]
  },
  {
   "cell_type": "code",
   "execution_count": null,
   "id": "7c47bb75",
   "metadata": {},
   "outputs": [],
   "source": [
    "df_emissions_calcs['kg CO2e per kg km'] = df_emissions_calcs['kg CO2e of CO2 per tonne km']/1000"
   ]
  },
  {
   "cell_type": "markdown",
   "id": "e4ce71c3",
   "metadata": {},
   "source": [
    "For simplicity, we'll assume an average weight for each pickup.<br>\n",
    "You could do a specific weight for each pickup, but that would increase the complexity of the code a bit.<br><br>Now, we have done all the set up to get the emissions for pickups and deliveries:"
   ]
  },
  {
   "cell_type": "code",
   "execution_count": null,
   "id": "f43504f6",
   "metadata": {},
   "outputs": [],
   "source": [
    "df_pickup_emissions=(df_emissions_calcs.loc['HGV Unspecified Type Diesel','kg CO2e per kg km']*to_facility_distances)/len(pickup_locations)"
   ]
  },
  {
   "cell_type": "code",
   "execution_count": null,
   "id": "696cdcfd",
   "metadata": {},
   "outputs": [],
   "source": [
    "df_deliveries_emissions = (df_emissions_calcs.loc['HGV Unspecified Type Diesel','kg CO2e per kg km']*to_facility_distances)/len(pickup_locations)"
   ]
  },
  {
   "cell_type": "markdown",
   "id": "e0883b20",
   "metadata": {},
   "source": [
    "The emissions for transport are simply the sum of the delivery and pickup emissions:"
   ]
  },
  {
   "cell_type": "code",
   "execution_count": null,
   "id": "47e3df9c",
   "metadata": {},
   "outputs": [],
   "source": [
    "transport_emissions = df_pickup_emissions+df_deliveries_demissions"
   ]
  },
  {
   "cell_type": "markdown",
   "id": "cba8d5a4",
   "metadata": {},
   "source": [
    "For simplicity, I've assumed that transport happens in a lorry and not by air or sea.<br>Factoring air or sea becomes more complicated to calculate the distance quickly with confidence. If you want to do that, you'll need to integrate with various other APIs.<br>"
   ]
  },
  {
   "cell_type": "markdown",
   "id": "6ffad3e3",
   "metadata": {},
   "source": [
    "## 5 The Final Result of the Calculation"
   ]
  },
  {
   "cell_type": "markdown",
   "id": "14964ae7",
   "metadata": {},
   "source": [
    "Now, we have all the components of the calculation that can be specific to your facility. We just need to add and subtract as appropriate."
   ]
  },
  {
   "cell_type": "code",
   "execution_count": null,
   "id": "79f7021f",
   "metadata": {},
   "outputs": [],
   "source": [
    "carbon_benefit = total_benefit + total_refurb #- transport_emissions\n",
    "carbon_benefit"
   ]
  },
  {
   "cell_type": "markdown",
   "id": "daa750d6",
   "metadata": {},
   "source": [
    "Assuming that you refurbish **all** of the assets, you can also get a figure for e-waste avoided in kilogrammes:"
   ]
  },
  {
   "cell_type": "code",
   "execution_count": null,
   "id": "6c756e50",
   "metadata": {},
   "outputs": [],
   "source": [
    "total_weight"
   ]
  },
  {
   "cell_type": "markdown",
   "id": "3a9b8de2",
   "metadata": {},
   "source": [
    "Telling a story with your data is just as important as having it.<br>To understand the data, readers usually benefit from some visualisations.<br><br>You can start with a simple bar plot by subcategory:"
   ]
  },
  {
   "cell_type": "code",
   "execution_count": null,
   "id": "422ea8c5",
   "metadata": {},
   "outputs": [],
   "source": [
    "df_benefits.loc[:,'benefit_per_subcat'].plot(kind=\"bar\")"
   ]
  },
  {
   "cell_type": "markdown",
   "id": "fe42b5bf",
   "metadata": {},
   "source": [
    "Just to be clear, the sum of the values in this plot will be **higher** than the final figure for carbon benefit.<br>Therefore, you may want to remove the scale figures in the y axis."
   ]
  },
  {
   "cell_type": "markdown",
   "id": "be0ef769",
   "metadata": {},
   "source": [
    "## 6 After the Guide"
   ]
  },
  {
   "cell_type": "markdown",
   "id": "57c92cf5",
   "metadata": {},
   "source": [
    "Now that you've gone through the steps for the guide, you know the entire methodology for the calculation and its reasoning.<br>\n",
    "You can clone this repo, and use this document as a startpoint to operationalise the calculation.<br>\n",
    "There's plenty more that you can add:<br>\n",
    "* More specific emissions for refurbishing by asset type.\n",
    "* A test which checks whether your device's specific name is in the database and uses those emissions rather than an average if it is.\n",
    "* More in-depth calculations for transport, which account for travel by sea and air (the Carbon Interface API is good for this)."
   ]
  },
  {
   "cell_type": "markdown",
   "id": "db4d1f65",
   "metadata": {},
   "source": [
    "These are all only slightly more complicated to create  than the rest of the calculation. If you'd like to learn more, you can reach me @tomburdge3@gmail.com"
   ]
  }
 ],
 "metadata": {
  "kernelspec": {
   "display_name": "Python 3 (ipykernel)",
   "language": "python",
   "name": "python3"
  },
  "language_info": {
   "codemirror_mode": {
    "name": "ipython",
    "version": 3
   },
   "file_extension": ".py",
   "mimetype": "text/x-python",
   "name": "python",
   "nbconvert_exporter": "python",
   "pygments_lexer": "ipython3",
   "version": "3.9.13"
  }
 },
 "nbformat": 4,
 "nbformat_minor": 5
}
