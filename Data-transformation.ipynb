{
 "cells": [
  {
   "cell_type": "markdown",
   "id": "337ac83f",
   "metadata": {},
   "source": [
    "# Operationalising the Calculation"
   ]
  },
  {
   "cell_type": "markdown",
   "id": "393bb8ba",
   "metadata": {},
   "source": [
    "Now that you understand the calculation, and have worked through a toy case, we will operationalise the calculation."
   ]
  },
  {
   "cell_type": "code",
   "execution_count": 2,
   "id": "948b6aea",
   "metadata": {},
   "outputs": [],
   "source": [
    "import pandas as pd"
   ]
  },
  {
   "cell_type": "markdown",
   "id": "2383a1fc",
   "metadata": {},
   "source": [
    "### Finding New Production Data"
   ]
  },
  {
   "cell_type": "markdown",
   "id": "2830626c",
   "metadata": {},
   "source": [
    "Recall from the previous Start Here notebook that New Production of a device dominates the calculation."
   ]
  },
  {
   "cell_type": "markdown",
   "id": "0f253df6",
   "metadata": {},
   "source": [
    "If we can create a database which aggregates new production data, we will have data for most important part of the calculation."
   ]
  },
  {
   "cell_type": "markdown",
   "id": "3b354248",
   "metadata": {},
   "source": [
    "Many Original Equipment Manufacturers (OEMs) use the MIT's Product Attribute to Impact Algorithm to calculate the emissions at all stages of their product's lifecycle, and share the data on their website."
   ]
  },
  {
   "cell_type": "markdown",
   "id": "a2c3ce67",
   "metadata": {},
   "source": [
    "These files provide high-quality data for the following three components of the calculation:\n",
    "* PRODUCTION = Environmental impact from the avoided new production;\n",
    "* TRANSPORTp = Environmental impact from the avoided transport from production;\n",
    "* WASTE = Environmental impact from the avoided waste handling (of the product that was not produced);\n",
    "* TRANSPORTw = Environmental impact from the avoided transport to waste handling; "
   ]
  },
  {
   "cell_type": "markdown",
   "id": "0ed2bed1",
   "metadata": {},
   "source": [
    "**However**, these files are often difficult to find and in PDF form.\n",
    "\n",
    "This makes the data very difficult to perform data analysis with."
   ]
  },
  {
   "cell_type": "markdown",
   "id": "724ca471",
   "metadata": {},
   "source": [
    "## Boavizta's Database"
   ]
  },
  {
   "cell_type": "markdown",
   "id": "7e48655f",
   "metadata": {},
   "source": [
    "[Boavizta](https://boavizta.org/en) is agroup of French data-professionals who work to help organisations measure the carbon effects of their IT equipment."
   ]
  },
  {
   "cell_type": "markdown",
   "id": "75ea6dbd",
   "metadata": {},
   "source": [
    "One of Boavizta's projects aggregates the the MIT's files which aggregate the data from various OEMs' MIT files."
   ]
  },
  {
   "cell_type": "markdown",
   "id": "2a3a8cd7",
   "metadata": {},
   "source": [
    "You can find a dashboard for the project [here](https://dataviz.boavizta.org/). \n",
    "\n",
    "You will want the latest data, which you can export as a CSV from the site."
   ]
  },
  {
   "cell_type": "markdown",
   "id": "57b78cbb",
   "metadata": {},
   "source": [
    "At the accompanying [GitHub](https://github.com/Boavizta/environmental-footprint-data), you can see the process through which they have extracted the data.\n",
    "\n",
    "As a summary of their process, they:\n",
    "* Aggregate the files from the OEMs on the GitHub.\n",
    "* Developed Python files which parse the PDFs with Natural Language Processing for each brand.\n",
    "* Added the extracted data to a single database.\n",
    "\n"
   ]
  },
  {
   "cell_type": "markdown",
   "id": "7542ad67",
   "metadata": {},
   "source": [
    "This database, with some transformation, will underpin the calculation."
   ]
  },
  {
   "cell_type": "markdown",
   "id": "5843812f",
   "metadata": {},
   "source": [
    "Let's take a look at the database:"
   ]
  },
  {
   "cell_type": "code",
   "execution_count": 8,
   "id": "16c6faa7",
   "metadata": {},
   "outputs": [
    {
     "data": {
      "text/html": [
       "<div>\n",
       "<style scoped>\n",
       "    .dataframe tbody tr th:only-of-type {\n",
       "        vertical-align: middle;\n",
       "    }\n",
       "\n",
       "    .dataframe tbody tr th {\n",
       "        vertical-align: top;\n",
       "    }\n",
       "\n",
       "    .dataframe thead th {\n",
       "        text-align: right;\n",
       "    }\n",
       "</style>\n",
       "<table border=\"1\" class=\"dataframe\">\n",
       "  <thead>\n",
       "    <tr style=\"text-align: right;\">\n",
       "      <th></th>\n",
       "      <th>manufacturer</th>\n",
       "      <th>name</th>\n",
       "      <th>category</th>\n",
       "      <th>subcategory</th>\n",
       "      <th>gwp_total</th>\n",
       "      <th>gwp_use_ratio</th>\n",
       "      <th>yearly_tec</th>\n",
       "      <th>lifetime</th>\n",
       "      <th>use_location</th>\n",
       "      <th>report_date</th>\n",
       "      <th>...</th>\n",
       "      <th>height</th>\n",
       "      <th>added_date</th>\n",
       "      <th>add_method</th>\n",
       "      <th>gwp_transport_ratio</th>\n",
       "      <th>gwp_eol_ratio</th>\n",
       "      <th>gwp_ssd_ratio</th>\n",
       "      <th>gwp_mainboard_ratio</th>\n",
       "      <th>gwp_daughterboard_ratio</th>\n",
       "      <th>gwp_enclosure_ratio</th>\n",
       "      <th>comment</th>\n",
       "    </tr>\n",
       "  </thead>\n",
       "  <tbody>\n",
       "    <tr>\n",
       "      <th>872</th>\n",
       "      <td>Lenovo</td>\n",
       "      <td>Legion C730 Cube</td>\n",
       "      <td>Workplace</td>\n",
       "      <td>Desktop</td>\n",
       "      <td>1026.0</td>\n",
       "      <td>0.730</td>\n",
       "      <td>NaN</td>\n",
       "      <td>6.0</td>\n",
       "      <td>WW</td>\n",
       "      <td>April 2018</td>\n",
       "      <td>...</td>\n",
       "      <td>NaN</td>\n",
       "      <td>01-11-2020</td>\n",
       "      <td>Initial Parsing</td>\n",
       "      <td>NaN</td>\n",
       "      <td>NaN</td>\n",
       "      <td>NaN</td>\n",
       "      <td>NaN</td>\n",
       "      <td>NaN</td>\n",
       "      <td>NaN</td>\n",
       "      <td>NaN</td>\n",
       "    </tr>\n",
       "    <tr>\n",
       "      <th>819</th>\n",
       "      <td>Lenovo</td>\n",
       "      <td>ideapad 310-15ISK</td>\n",
       "      <td>Workplace</td>\n",
       "      <td>Laptop</td>\n",
       "      <td>339.0</td>\n",
       "      <td>0.260</td>\n",
       "      <td>NaN</td>\n",
       "      <td>5.0</td>\n",
       "      <td>US</td>\n",
       "      <td>March 2016</td>\n",
       "      <td>...</td>\n",
       "      <td>NaN</td>\n",
       "      <td>01-11-2020</td>\n",
       "      <td>Initial Parsing</td>\n",
       "      <td>NaN</td>\n",
       "      <td>NaN</td>\n",
       "      <td>NaN</td>\n",
       "      <td>NaN</td>\n",
       "      <td>NaN</td>\n",
       "      <td>NaN</td>\n",
       "      <td>NaN</td>\n",
       "    </tr>\n",
       "    <tr>\n",
       "      <th>322</th>\n",
       "      <td>Dell</td>\n",
       "      <td>OptiPlex 7770 All-in-One Desktop</td>\n",
       "      <td>Workplace</td>\n",
       "      <td>Desktop</td>\n",
       "      <td>514.0</td>\n",
       "      <td>0.368</td>\n",
       "      <td>90.26</td>\n",
       "      <td>4.0</td>\n",
       "      <td>EU</td>\n",
       "      <td>July 2019</td>\n",
       "      <td>...</td>\n",
       "      <td>NaN</td>\n",
       "      <td>2022-09-14</td>\n",
       "      <td>Dell Auto Parser</td>\n",
       "      <td>0.161</td>\n",
       "      <td>0.01</td>\n",
       "      <td>NaN</td>\n",
       "      <td>NaN</td>\n",
       "      <td>NaN</td>\n",
       "      <td>NaN</td>\n",
       "      <td>NaN</td>\n",
       "    </tr>\n",
       "    <tr>\n",
       "      <th>464</th>\n",
       "      <td>Dell</td>\n",
       "      <td>Precision 7750</td>\n",
       "      <td>Workplace</td>\n",
       "      <td>Desktop</td>\n",
       "      <td>495.0</td>\n",
       "      <td>0.126</td>\n",
       "      <td>27.59</td>\n",
       "      <td>4.0</td>\n",
       "      <td>EU</td>\n",
       "      <td>May 2020</td>\n",
       "      <td>...</td>\n",
       "      <td>NaN</td>\n",
       "      <td>2022-09-08</td>\n",
       "      <td>Dell Auto Parser</td>\n",
       "      <td>NaN</td>\n",
       "      <td>NaN</td>\n",
       "      <td>NaN</td>\n",
       "      <td>NaN</td>\n",
       "      <td>NaN</td>\n",
       "      <td>NaN</td>\n",
       "      <td>NaN</td>\n",
       "    </tr>\n",
       "    <tr>\n",
       "      <th>462</th>\n",
       "      <td>Dell</td>\n",
       "      <td>Precision 7730</td>\n",
       "      <td>Workplace</td>\n",
       "      <td>Desktop</td>\n",
       "      <td>476.0</td>\n",
       "      <td>0.189</td>\n",
       "      <td>25.11</td>\n",
       "      <td>4.0</td>\n",
       "      <td>EU</td>\n",
       "      <td>July 2019</td>\n",
       "      <td>...</td>\n",
       "      <td>NaN</td>\n",
       "      <td>2022-09-08</td>\n",
       "      <td>Dell Auto Parser</td>\n",
       "      <td>NaN</td>\n",
       "      <td>NaN</td>\n",
       "      <td>NaN</td>\n",
       "      <td>NaN</td>\n",
       "      <td>NaN</td>\n",
       "      <td>NaN</td>\n",
       "      <td>NaN</td>\n",
       "    </tr>\n",
       "  </tbody>\n",
       "</table>\n",
       "<p>5 rows × 31 columns</p>\n",
       "</div>"
      ],
      "text/plain": [
       "    manufacturer                              name   category subcategory  \\\n",
       "872       Lenovo                  Legion C730 Cube  Workplace     Desktop   \n",
       "819       Lenovo                 ideapad 310-15ISK  Workplace      Laptop   \n",
       "322         Dell  OptiPlex 7770 All-in-One Desktop  Workplace     Desktop   \n",
       "464         Dell                    Precision 7750  Workplace     Desktop   \n",
       "462         Dell                    Precision 7730  Workplace     Desktop   \n",
       "\n",
       "     gwp_total  gwp_use_ratio  yearly_tec  lifetime use_location report_date  \\\n",
       "872     1026.0          0.730         NaN       6.0           WW  April 2018   \n",
       "819      339.0          0.260         NaN       5.0           US  March 2016   \n",
       "322      514.0          0.368       90.26       4.0           EU   July 2019   \n",
       "464      495.0          0.126       27.59       4.0           EU    May 2020   \n",
       "462      476.0          0.189       25.11       4.0           EU   July 2019   \n",
       "\n",
       "     ... height  added_date        add_method  gwp_transport_ratio  \\\n",
       "872  ...    NaN  01-11-2020   Initial Parsing                  NaN   \n",
       "819  ...    NaN  01-11-2020   Initial Parsing                  NaN   \n",
       "322  ...    NaN  2022-09-14  Dell Auto Parser                0.161   \n",
       "464  ...    NaN  2022-09-08  Dell Auto Parser                  NaN   \n",
       "462  ...    NaN  2022-09-08  Dell Auto Parser                  NaN   \n",
       "\n",
       "     gwp_eol_ratio gwp_ssd_ratio  gwp_mainboard_ratio gwp_daughterboard_ratio  \\\n",
       "872            NaN           NaN                  NaN                     NaN   \n",
       "819            NaN           NaN                  NaN                     NaN   \n",
       "322           0.01           NaN                  NaN                     NaN   \n",
       "464            NaN           NaN                  NaN                     NaN   \n",
       "462            NaN           NaN                  NaN                     NaN   \n",
       "\n",
       "    gwp_enclosure_ratio comment  \n",
       "872                 NaN     NaN  \n",
       "819                 NaN     NaN  \n",
       "322                 NaN     NaN  \n",
       "464                 NaN     NaN  \n",
       "462                 NaN     NaN  \n",
       "\n",
       "[5 rows x 31 columns]"
      ]
     },
     "execution_count": 8,
     "metadata": {},
     "output_type": "execute_result"
    }
   ],
   "source": [
    "df = pd.read_csv('CSVs/boavizta-data/boavizta-data-us.csv')\n",
    "df.sample(5)"
   ]
  },
  {
   "cell_type": "markdown",
   "id": "c7a4e853",
   "metadata": {},
   "source": [
    "### Column information"
   ]
  },
  {
   "cell_type": "markdown",
   "id": "076211c9",
   "metadata": {},
   "source": [
    "The first two columns and the fourth should be intuitive.\n",
    "The third distinguishes between workplace devices and those used in datacenters.\n",
    "\n",
    "The others that are relevant to our purposes include:\n",
    "* gwp_total: GHG emissions (estimated as CO2 equivalent, the unit is kgCO2eq) through the total lifecycle of the product (Manufacturing, Transportation, Use phase and Recycling)\n",
    "* gwp_use_ratio: part of the GHG emissions coming from the use phase (the hypothesis for this use phase are detailed in the other columns, especially the lifetime and the use_location)\n",
    "* report_date: the date at which the Product Carbon Footprint report of the device was published\n",
    "* gwp_manufacturing_ratio: the proportion of the GHG emissions coming from the manufacturing phase\n",
    "* weight: product weight in kg\n",
    "* assembly_location: The region of the world in which the device is assembled\n",
    "    * US: United States of America\n",
    "    * EU: Europe\n",
    "    * CN: China\n",
    "    * Asia: Asia\n",
    "* screen_size: in inches\n",
    "* server_type: the type of server\n",
    "* hard_drive: the hard drive of the device if any\n",
    "* memory: RAM in GB\n",
    "* number_cpu: number of CPUs"
   ]
  },
  {
   "cell_type": "markdown",
   "id": "4fdd3394",
   "metadata": {},
   "source": [
    "## Transforming the Data"
   ]
  },
  {
   "cell_type": "markdown",
   "id": "1c2d0653",
   "metadata": {},
   "source": [
    "We have over a thousand entries, but the data is ungrouped.\n",
    "If we have a device that doesn't excatly fit the model name, the data won't be much use.\n",
    "\n",
    "We need to make aggregate the data across types."
   ]
  }
 ],
 "metadata": {
  "kernelspec": {
   "display_name": "Python 3 (ipykernel)",
   "language": "python",
   "name": "python3"
  },
  "language_info": {
   "codemirror_mode": {
    "name": "ipython",
    "version": 3
   },
   "file_extension": ".py",
   "mimetype": "text/x-python",
   "name": "python",
   "nbconvert_exporter": "python",
   "pygments_lexer": "ipython3",
   "version": "3.9.12"
  }
 },
 "nbformat": 4,
 "nbformat_minor": 5
}
