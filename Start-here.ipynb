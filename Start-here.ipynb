{
 "cells": [
  {
   "cell_type": "markdown",
   "id": "cd128841",
   "metadata": {},
   "source": [
    "# How to Calculate the Carbon Benefit of Reuse\n",
    "### This document provides a quick introduction to the calculation, and how you'll use it\n"
   ]
  },
  {
   "cell_type": "markdown",
   "id": "b9ba3238",
   "metadata": {},
   "source": [
    "This Jupyter Notebook provides an introduction to the calculation for the carbon benefit of reuse.\n",
    "\n",
    "It is recommended that you clone the repository and run this through in Jupyter Notebooks.\n",
    "\n",
    "It is **highly recommended** that you read this document fully before performing any calculations yourself. This is so that you understand the calculation; what it says and doesn't say. \n",
    "\n",
    "The structure of the Notebook is as follows:\n",
    "* An Introduction to the Calculation\n",
    "* A Formula for the Calculation\n",
    "* An Illustratation of the Calculation in a simple case\n",
    "Once you have read through in full, and understood the calculation, you are ready to start automating your own calculation in the next Jupyter Notebook."
   ]
  },
  {
   "cell_type": "markdown",
   "id": "0d11a0cb",
   "metadata": {},
   "source": [
    "## An introduction to the calculation"
   ]
  },
  {
   "cell_type": "markdown",
   "id": "6043f0fd",
   "metadata": {},
   "source": [
    "This calculation provides the carbon benefit of reuse compared to the next owner of the IT product buying new."
   ]
  },
  {
   "cell_type": "markdown",
   "id": "0db2ba19",
   "metadata": {},
   "source": [
    "The result is a counter-factual conditional statement. \n",
    "\n",
    "A counterfactual conditional statement makes a conditional claim about something that did not happen – ‘if I had not gone on a run at 9:00 a.m., my heartbeat would have been lower at 9:30 a.m.’ \n",
    "\n",
    "The carbon benefit calculation’s counter-factional conditional statement says, ‘if you hadn’t re-used your assets , the carbon emissions, as a result, would have been X kg CO2e higher.’"
   ]
  },
  {
   "cell_type": "markdown",
   "id": "6e3a21b4",
   "metadata": {},
   "source": [
    "### Components of the calculation"
   ]
  },
  {
   "cell_type": "markdown",
   "id": "5a0b281a",
   "metadata": {},
   "source": [
    "To calculate the carbon benefit of reuse, we need to calculate: \n",
    "\n",
    "1. the carbon **avoided** by not recycling the product as waste material and second user purchasing new, \n",
    "2. the carbon **added** by choosing re-use. \n",
    "\n",
    "When we subtract 2. from 1. we reach the carbon benefit of reuse."
   ]
  },
  {
   "cell_type": "markdown",
   "id": "83d48da5",
   "metadata": {},
   "source": [
    "#### Within the scope of 1. are:"
   ]
  },
  {
   "cell_type": "markdown",
   "id": "a379d106",
   "metadata": {},
   "source": [
    "* Environmental impact from the **avoided new production**.\n",
    "* Environmental impact from the **avoided transport from production**.\n",
    "* Environmental impact from the **avoided waste handling** (of the product that was not produced).\n",
    "* Environmental impact from the **avoided transport to waste handling**.\n",
    "\n",
    "The first two bullet points of 1. **assume** that the second user of the product would have bought new if they had not bought used. \n",
    "By not buying new, environmental impact from new production and environmental impact from avoided transport are avoided.\n",
    "\n",
    "\n",
    "The third and fourth elements of 1. originate in the fact that if the product had not been reused it would have been recycled as waste material. \n",
    "Environmental impacts emerge in the recycling process, such as emission through waste-to-energy, which is avoided through re-use."
   ]
  },
  {
   "cell_type": "markdown",
   "id": "f9b99d0b",
   "metadata": {},
   "source": [
    "#### Within the scope of 2. are:"
   ]
  },
  {
   "cell_type": "markdown",
   "id": "355a2f44",
   "metadata": {},
   "source": [
    "* Environmental impact from the reconditioning at the facility.\n",
    "* Environmental impact from the added transport to and from the reconditioning facility.\n",
    "\n",
    "To calculate the environmental benefit of re-use, we need to account for the environmental costs of re-use. \n",
    "\n",
    "In principle, it is possible that re-use could be worse environmentally than recycling; consider a single 2008 laptop that is transported a few thousand miles in one lorry to be resold. In this case, it could be better to recycle the parts of the device in-country. Fortunately for refurbishers, we have found that this rarely occurs; the carbon cost of new production dominates this calculation and is not lower than 2. \n",
    "\n",
    "However, when calculating the carbon benefit from re-use it is important to consider the carbon cost of re-use. Transport from user 1 to the refurbishing facility involves carbon emissions, as does the refurbishment process. \n",
    "\n",
    "To account for the refurbishment cost, we **subtract** 2. in the carbon calculation.\n",
    "\n"
   ]
  },
  {
   "cell_type": "markdown",
   "id": "ca0aed66",
   "metadata": {},
   "source": [
    "## The calculation formula"
   ]
  },
  {
   "cell_type": "markdown",
   "id": "b1cd36e2",
   "metadata": {},
   "source": [
    "An original version of this calculation <sub>[1]</sub> provides the following a key for the calculation:\n",
    "\n",
    "* **PRODUCTION** = Environmental impact from the avoided new production; \n",
    "* **TRANSPORTp** = Environmental impact from the avoided transport from ***production***; \n",
    "* **WASTE** = Environmental impact from the avoided waste handling (of the product that was not produced); \n",
    "* **TRANSPORTw** = Environmental impact from the avoided transport to ***waste*** handling; \n",
    "* **TRANSPORT𝑟𝑒** = Environmental impact from the added transport to and from ***refurbishment***; \n",
    "* **REFURB** = Environmental impact from the refurbishment of the product.\n",
    "\n",
    "These are all of 1. and 2. from the previous section."
   ]
  },
  {
   "cell_type": "markdown",
   "id": "a82ca185",
   "metadata": {},
   "source": [
    "The formula for the calculation itself then becomes:\n",
    "Carbon Benefit = PRODUCTION + TRANSPORTp + WASTE + TRANSPORTw - TRANSPORT𝑟𝑒 - REFURB"
   ]
  },
  {
   "cell_type": "markdown",
   "id": "ada4c0b3",
   "metadata": {},
   "source": [
    "This is a very simple addition and subtraction calculation. \n",
    "\n",
    "The difficult parts are: (1) sourcing accurate data for each component and (2) making the data for the calculation easy to call and calculate on demand for specific amounts.\n",
    "\n",
    "The aim of this project is to make (1) and (2) easier for small and medium sized refurbishers."
   ]
  },
  {
   "cell_type": "markdown",
   "id": "edf2e633",
   "metadata": {},
   "source": [
    "## A simple example"
   ]
  },
  {
   "cell_type": "markdown",
   "id": "3bd93167",
   "metadata": {},
   "source": [
    "At this point, it will be useful to **perform** the calculation in a very simple case."
   ]
  },
  {
   "cell_type": "markdown",
   "id": "5cb09ddf",
   "metadata": {},
   "source": [
    "Let's take a fictional business:\n",
    "\n",
    "**Bespoke IT Supply Solutions LLC** is a small IT Refurbisher.\n",
    "\n",
    "They have 5 employees and one facility. \n",
    "\n",
    "Each year they sell 800 refurbished gaming laptops priced at £100, which is £80,000 in yearly revenue."
   ]
  },
  {
   "cell_type": "markdown",
   "id": "d78fedcd",
   "metadata": {},
   "source": [
    "Now, let's try to give a value for each component in this calculation for Bespoke IT."
   ]
  },
  {
   "cell_type": "code",
   "execution_count": null,
   "id": "6e6835ff",
   "metadata": {},
   "outputs": [],
   "source": [
    "total_refurbished = 800"
   ]
  },
  {
   "cell_type": "markdown",
   "id": "5c157618",
   "metadata": {},
   "source": [
    "### Production"
   ]
  },
  {
   "cell_type": "markdown",
   "id": "3089a78e",
   "metadata": {},
   "source": [
    "The new production that Bespoke IT avoids is 800 PCs.\n",
    "\n",
    "Since these are gaming laptops, let's assume that these are notebooks with screen sized over 14\"."
   ]
  },
  {
   "cell_type": "markdown",
   "id": "6be9208b",
   "metadata": {},
   "source": [
    "With this reasonable assumption, we are in luck.\n",
    "\n",
    "The Massachussett's Insitute of Technology's Materials System Laboratory has created a process for estimating the carbon emissions for IT devices across the device's entire lifecycle.\n",
    "\n",
    "We can return an average by device type, such as a Notebook, through averaging a sample of MIT's files.\n",
    "\n",
    "For Notebooks with screen >14\", this returns new production cost for these devices at 356 kg CO2e, rounded to 2 significant figures."
   ]
  },
  {
   "cell_type": "code",
   "execution_count": null,
   "id": "fb9edbd2",
   "metadata": {},
   "outputs": [
    {
     "ename": "",
     "evalue": "",
     "output_type": "error",
     "traceback": [
      "\u001b[1;31mRunning cells with 'Python 3.10.4 64-bit' requires ipykernel package.\n",
      "\u001b[1;31mRun the following command to install 'ipykernel' into the Python environment. \n",
      "\u001b[1;31mCommand: 'c:/Users/TomBurdge/AppData/Local/Programs/Python/Python310/python.exe -m pip install ipykernel -U --user --force-reinstall'"
     ]
    }
   ],
   "source": [
    "production_kg_co2e = 356 * total_refurbished"
   ]
  },
  {
   "cell_type": "markdown",
   "id": "efd1b597",
   "metadata": {},
   "source": [
    "#### Note: MIT's Product Attiribute to Impact Algorithm"
   ]
  },
  {
   "cell_type": "markdown",
   "id": "3eb5c83e",
   "metadata": {},
   "source": [
    "As I understand it, MIT's Product Attribute to Impact Algorithm reaches a happy compromise for calculating the carbon impact of IT equipment.\n",
    "\n",
    "A standard tool in Industrial Ecology are Life Cycle Assessment calculations.\n",
    "\n",
    "Life Cycle Assessment calculations return the environmental impacts at each stage of a product's lifecycle: production, transport, use, and end-of-life disposition.\n",
    "\n",
    "One of the environmental impacts that are usually included carbon emissions."
   ]
  },
  {
   "cell_type": "markdown",
   "id": "913243e7",
   "metadata": {},
   "source": [
    "A standard problem with life cycle assessments are that they can be **extremely** costly and time consuming to calculate at a reliable standard of accuracy.\n",
    "\n",
    "Think of trying to collate all the data about the device that you are reading this Jupyter Notebook with. To even begin, you would need to know:\n",
    "* Where it was produced.\n",
    "* The emisssions of that facility.\n",
    "* The materials used to make the device.\n",
    "* The extraction process for each material.\n",
    "* The refinement process of the materials before they reached the production facility.\n",
    "You could calculate all of this, *only* for the production stage.\n",
    "\n",
    "But then, for large IT companies, a device may be produced in Asia **and** South America...\n",
    "You would need to provide a separate life cycle analysis for that facility too."
   ]
  },
  {
   "cell_type": "markdown",
   "id": "1190b199",
   "metadata": {},
   "source": [
    "MIT's Product Attribute to Impact Algorithm reaches a compromise by making certain assumptions about the carbon emissions at each stage of the asset's life.\n",
    "\n",
    "Some properties of a device, such as its screen size and CPU type, most significantly determine an asset's lifetime emissions.\n",
    "\n",
    "The researchers at MIT noticed this, and created an algorithm which inputs these most important components for the device so that providing a lifecycle analysis calculation with *acceptable* **accuracy** with *acceptable* **calculation cost** is possible.\n",
    "\n",
    "The algorithm assumes the highest 95th percentile of emissions, which accepts the margin for error from a quick calculation by ensuring that it is very **unlikely** that it underestimates the emissions. However, this means that the figures for carbon avoidance come out very high. This is partly why it is important that this carbon calculation must not be reported as part of emissions of any scope, or as a carbon offset.\n",
    "\n",
    "Original Equipment Manufacturers (OEMs) have been provided access to the Product Attribute to Impact Algorithm and publicly shared files for *some* of their devices.\n",
    "\n",
    "Large OEM include: HPE, Lenovo, Dell, Cisco, and AMD.\n",
    "\n",
    "We assume these files have good accuracy, and will rely on them for reaching various components of the carbon avoidance calculation."
   ]
  },
  {
   "cell_type": "markdown",
   "id": "ae9f1df2",
   "metadata": {},
   "source": [
    "### Transport P"
   ]
  },
  {
   "cell_type": "markdown",
   "id": "1cdd332f",
   "metadata": {},
   "source": [
    "Recall that Transportp is the environmental impact from the avoided transport from production to the first user.\n",
    "\n",
    "This is a carbon **benefit** because it is **avoided**; it is easy to get confused."
   ]
  },
  {
   "cell_type": "markdown",
   "id": "357e1927",
   "metadata": {},
   "source": [
    "The PAIA files also provide an amount for this component of the calculation.\n",
    "\n",
    "For a Notebook with a screen greater than 14 inches, this is: 1.5 kg Co2e.\n",
    "\n",
    "It is worth noting that this is **significantly** lower than the 300 kilogrammes for new production. We will that new production dominates this calculation as the highest amount, and therefore further emphasises the benefit of reuse."
   ]
  },
  {
   "cell_type": "code",
   "execution_count": null,
   "id": "761ea6f1",
   "metadata": {},
   "outputs": [],
   "source": [
    "transport_p_kg_co2e = 1.5 * total_refurbished"
   ]
  },
  {
   "cell_type": "markdown",
   "id": "f13b6883",
   "metadata": {},
   "source": [
    "### Waste"
   ]
  },
  {
   "cell_type": "markdown",
   "id": "0b6fea67",
   "metadata": {},
   "source": [
    "Recall that Waste is the emissions that result from waste handling, or recycling.\n",
    "\n",
    "It is worth emphasising that just because an IT product is recylced does **not** mean that it has been disposed of sustainably.\n",
    "\n",
    "Recycling can include waste to energy, where the asset is **burned**, resulting in significant carbon emissions."
   ]
  },
  {
   "cell_type": "markdown",
   "id": "98a10e23",
   "metadata": {},
   "source": [
    "The PAIA files also provide us with a figure for waste handling; 1.6 kg CO2e."
   ]
  },
  {
   "cell_type": "code",
   "execution_count": null,
   "id": "a837fc00",
   "metadata": {},
   "outputs": [],
   "source": [
    "waste_kg_co2e = 1.6 * total_refurbished"
   ]
  },
  {
   "cell_type": "markdown",
   "id": "0a8f1ef8",
   "metadata": {},
   "source": [
    "### Transport W"
   ]
  },
  {
   "cell_type": "markdown",
   "id": "30a7cf38",
   "metadata": {},
   "source": [
    "To finish the carbon **benefit** component of the calculation, we have the avoided transport to waste handling.\n",
    "\n",
    "The algorithm appears to assume the assets are disposed of in-country, with a short journey. Therefore, the amount is very low: 0.1 kg Co2e."
   ]
  },
  {
   "cell_type": "code",
   "execution_count": null,
   "id": "afa8c3ce",
   "metadata": {},
   "outputs": [],
   "source": [
    "transport_w_kg_co2e = 0.1 * total_refurbished"
   ]
  },
  {
   "cell_type": "markdown",
   "id": "0c6d32a3",
   "metadata": {},
   "source": [
    "### Transport Re"
   ]
  },
  {
   "cell_type": "markdown",
   "id": "a948eef9",
   "metadata": {},
   "source": [
    "To provide an honest picture of the carbon emissions avoided through reuse, we need to factor in the carbon **cost** of refurbishing.\n",
    "\n",
    "The first component of this carbon cost is the transport to and from the refurbishing facility. \n",
    "\n",
    "In other words, this is **all** the transport between the user of the new device and the user of the refurbished device. (This is the same device, at different stages of its lifecycle.)\n",
    "\n"
   ]
  },
  {
   "cell_type": "markdown",
   "id": "22a0323b",
   "metadata": {},
   "source": [
    "Bespoke IT sources all of their 800 laptops from a large financial company; **PW Asset Management Corp**.\n",
    "\n",
    "Bespoke IT works for PW Asset as an IT Asset Disposition (ITAD); Bespoke IT purchases the notebooks from PW Asset at a very good price, and in exchange Bespoke IT wipes all of the data on the notebooks to NIST standards.\n",
    "\n",
    "PW Asset is based in Birmingham, and Bespoke IT is based in Coventry.\n",
    "\n",
    "Once per quarter, Bespoke IT uses a logistics company to pick up the devices.\n",
    "\n",
    "A lorry travels the 38 kilometers from Birmingham to Coventry and drops off the assets at Bespoke IT."
   ]
  },
  {
   "cell_type": "markdown",
   "id": "d635d544",
   "metadata": {},
   "source": [
    "For each journey, we need to calculate the resultant carbon emissions.\n",
    "\n",
    "These would usually be a scope 3 emission that many refurbishers don't track yet, but it is a necessary component of the calculation.\n",
    "\n",
    "Thankfully the UK government provides a way of calculating this emission. (This can vary by country and I encourage you to use the recommended method for your own jurisdiction).\n",
    "\n",
    "An average HGV will emit 0.08009 kg CO2e per tonne.km.\n",
    "\n",
    "Therefore, to calculate the Transport emissions for these pickups, we need to find the tonne.km amount for the pickups"
   ]
  },
  {
   "cell_type": "code",
   "execution_count": null,
   "id": "9faa9362",
   "metadata": {},
   "outputs": [],
   "source": [
    "HGV_kg_CO2e_per_tonne_km = 0.08009"
   ]
  },
  {
   "cell_type": "markdown",
   "id": "cd51bc6d",
   "metadata": {},
   "source": [
    "To calculate the tonne.km we need to start with the weight of the asset.\n",
    "\n",
    "The PAIA files also include a weight for the assets. On average, a Notebook with a screen over 14 inches weighs **2.1 kilogrammes**."
   ]
  },
  {
   "cell_type": "code",
   "execution_count": null,
   "id": "1b060c5d",
   "metadata": {},
   "outputs": [],
   "source": [
    "notebook_weight_kg = 2.1"
   ]
  },
  {
   "cell_type": "markdown",
   "id": "897dcc68",
   "metadata": {},
   "source": [
    "If there is one pickup per quarter, then we can assume that for each pickup a quarter of the total assets per year are picked up.\n",
    "\n",
    "So, for one pickup fifty assets are picked up. \n",
    "\n",
    "Therefore, per pickup, the weight is the weight of 50 notebooks."
   ]
  },
  {
   "cell_type": "code",
   "execution_count": null,
   "id": "7fb4f624",
   "metadata": {},
   "outputs": [],
   "source": [
    "total_pickup_weight_kg = notebook_weight_kg * 200\n",
    "total_pickup_weight_kg"
   ]
  },
  {
   "cell_type": "markdown",
   "id": "bfcff9fd",
   "metadata": {},
   "source": [
    "Tonne.kms are tonnes * kilometers.\n",
    "\n",
    "So, for the total weight, we need to convert it to tonnes.\n",
    "(Where a tonne is 1,000 kgs):"
   ]
  },
  {
   "cell_type": "code",
   "execution_count": null,
   "id": "3f2abd38",
   "metadata": {},
   "outputs": [],
   "source": [
    "total_pickup_weight_tonnes = total_pickup_weight_kg/1000\n",
    "total_pickup_weight_tonnes"
   ]
  },
  {
   "cell_type": "markdown",
   "id": "78b493cf",
   "metadata": {},
   "source": [
    "For each pickup, the lorry travels 38 kilometers from Birmingham to Coventry."
   ]
  },
  {
   "cell_type": "code",
   "execution_count": null,
   "id": "34e2b26c",
   "metadata": {},
   "outputs": [],
   "source": [
    "pickup_distance_km = 38"
   ]
  },
  {
   "cell_type": "markdown",
   "id": "dfdb0620",
   "metadata": {},
   "source": [
    "Now, we have all that we need to calculate tonne.kms for each pickup: the total weight in tonnes and the distance of the pickup."
   ]
  },
  {
   "cell_type": "code",
   "execution_count": null,
   "id": "686bc464",
   "metadata": {},
   "outputs": [],
   "source": [
    "tonne_km_per_pickup = total_pickup_weight_tonnes * pickup_distance_km\n",
    "tonne_km_per_pickup"
   ]
  },
  {
   "cell_type": "markdown",
   "id": "3ad24536",
   "metadata": {},
   "source": [
    "Now we know the tonne.km for each pickup, we can use the government's conversion factor to calculate the CO2e emissions for each pickup:"
   ]
  },
  {
   "cell_type": "code",
   "execution_count": null,
   "id": "f7a3dcf8",
   "metadata": {},
   "outputs": [],
   "source": [
    "kg_co2e_per_pickup = tonne_km_per_pickup * HGV_kg_CO2e_per_tonne_km\n",
    "kg_co2e_per_pickup"
   ]
  },
  {
   "cell_type": "markdown",
   "id": "7a3984e5",
   "metadata": {},
   "source": [
    "So, for each pickup, we know the kg CO2e emissions.\n",
    "\n",
    "Now, recall that Bespoke IT picks up from PW Asset once per quarter.\n",
    "\n",
    "So, Bespoke IT completed the pickups 4 times in a year for the 800 laptops. \n",
    "\n",
    "So, the **total** for all the pickups is:"
   ]
  },
  {
   "cell_type": "code",
   "execution_count": null,
   "id": "04f64452",
   "metadata": {},
   "outputs": [],
   "source": [
    "total_kg_co2e_pickups = 4 * kg_co2e_per_pickup\n",
    "total_kg_co2e_pickups"
   ]
  },
  {
   "cell_type": "markdown",
   "id": "5c10d730",
   "metadata": {},
   "source": [
    "Now we have **one part** of the transport calculation.\n",
    "\n",
    "We know the emissions associated with transport to the refurbisher from the first user. We also need the transport emissions from the first user to the second user, once it has been refurbished."
   ]
  },
  {
   "cell_type": "markdown",
   "id": "fb16e7c0",
   "metadata": {},
   "source": [
    "Bespoke IT only sells IT equipment at their walk-in Refurbished PC store. They don't have an ecommerce presence.\n",
    "\n",
    "We know that, according to Nimble Fins (https://www.nimblefins.co.uk/largest-car-insurance-companies/average-car-journey-uk), the average distance of a car journey in the UK is 13.5 kilometers (8.4 miles).\n",
    "\n",
    "We can assume that everyone who comes to the store drives the average distance of a car journey to get there, and the average distance back home. So, we know the distances involved in picking up the asset."
   ]
  },
  {
   "cell_type": "code",
   "execution_count": null,
   "id": "1dfd8cb0",
   "metadata": {},
   "outputs": [],
   "source": [
    "avg_car_journey_uk_km = 13.5"
   ]
  },
  {
   "cell_type": "markdown",
   "id": "dd6f49f0",
   "metadata": {},
   "source": [
    "According to another set of government figures (https://www.gov.uk/government/publications/new-car-carbon-dioxide-emissions), we know that the average emissions per kilometer for a newly registered car are 122.4 grammes per kilometer.\n",
    "\n",
    "In kg CO2e this is:"
   ]
  },
  {
   "cell_type": "code",
   "execution_count": null,
   "id": "7f06c244",
   "metadata": {},
   "outputs": [],
   "source": [
    "car_co2e_per_km_kg = 0.1224"
   ]
  },
  {
   "cell_type": "markdown",
   "id": "22c6e87c",
   "metadata": {},
   "source": [
    "We can assume the customer completed two average journeys; one to the store and one back home.\n",
    "\n",
    "Then, we can calculate the CO2e emissions **to** the second user as:"
   ]
  },
  {
   "cell_type": "code",
   "execution_count": null,
   "id": "7a7c7b19",
   "metadata": {},
   "outputs": [],
   "source": [
    "transport_to_customer_kg_co2e = (avg_car_journey_uk_km*2)*car_co2e_per_km_kg\n",
    "transport_to_customer_kg_co2e"
   ]
  },
  {
   "cell_type": "markdown",
   "id": "4c6a15e0",
   "metadata": {},
   "source": [
    "Finally, we can reach the **total** kg CO2e the whole of transport from the user of the new device to the user of the refurbished device.\n",
    "\n",
    "To do so, we add the total emissions from the pickups to the total emissions from the transport to customer:"
   ]
  },
  {
   "cell_type": "code",
   "execution_count": null,
   "id": "12cb438f",
   "metadata": {},
   "outputs": [],
   "source": [
    "transport_re = total_kg_co2e_pickups + transport_to_customer_kg_co2e"
   ]
  },
  {
   "cell_type": "markdown",
   "id": "e16936a5",
   "metadata": {},
   "source": [
    "### Refurb"
   ]
  },
  {
   "cell_type": "markdown",
   "id": "f5179e6e",
   "metadata": {},
   "source": [
    "The final component in the calculation is the emissions that result from refurbishing the device."
   ]
  },
  {
   "cell_type": "markdown",
   "id": "8480fadb",
   "metadata": {},
   "source": [
    "Many companies of a reasonable size are required to calculate their scope 1 and scope 2 emissions.\n",
    "\n",
    "Scope 1 emissions are those emissions that are a **direct** result of a company's day-to-day operations. This includes gas for central heating, or the diesel in their fleet vehicles. \n",
    "\n",
    "Scope 2 emissions are **indirect** emissions from the electricity, heat, and steam power that organisation purchases."
   ]
  },
  {
   "cell_type": "markdown",
   "id": "82c8fd09",
   "metadata": {},
   "source": [
    "Bespoke IT is small enough that they haven't calculated their total emissions up to this point.\n",
    "\n",
    "Since they are a small company, it won't be practical to create a detailed calculation.\n",
    "\n",
    "Instead, they can use an estimator at enexo.io"
   ]
  },
  {
   "cell_type": "markdown",
   "id": "2dcb5b97",
   "metadata": {},
   "source": [
    "According to Enexo, a company of their size in their industry will emit 2 tonnes of CO2e scope 1 emissions and 11 tonnes CO2e of scope 2 emissions."
   ]
  },
  {
   "cell_type": "code",
   "execution_count": null,
   "id": "739cc3e2",
   "metadata": {},
   "outputs": [],
   "source": [
    "scope_1_tonnes_co2e = 2\n",
    "scope_2_tonnes_co2e = 11"
   ]
  },
  {
   "cell_type": "markdown",
   "id": "55f9d0ab",
   "metadata": {},
   "source": [
    "We can get the total and then put it into CO2e to make things easier."
   ]
  },
  {
   "cell_type": "code",
   "execution_count": null,
   "id": "1bd87838",
   "metadata": {},
   "outputs": [],
   "source": [
    "scope_1_and_2_tonnes_co2e = scope_1_tonnes_co2e + scope_2_tonnes_co2e"
   ]
  },
  {
   "cell_type": "markdown",
   "id": "f750618d",
   "metadata": {},
   "source": [
    "Now, when we convert this from tonnes to kg CO2e we know the total emissions that result from Bespoke IT's refurbishing process."
   ]
  },
  {
   "cell_type": "code",
   "execution_count": null,
   "id": "77a50289",
   "metadata": {},
   "outputs": [],
   "source": [
    "refurb = scope_1_and_2_tonnes_co2e*1000\n",
    "refurb"
   ]
  },
  {
   "cell_type": "markdown",
   "id": "8258bc97",
   "metadata": {},
   "source": [
    "### The Calculation"
   ]
  },
  {
   "cell_type": "markdown",
   "id": "25c0be67",
   "metadata": {},
   "source": [
    "Now, we have an amount for each component of the calculation.\n",
    "\n",
    "Recall that the amount is...\n",
    "\n",
    "Carbon Benefit = PRODUCTION + TRANSPORTp + WASTE + TRANSPORTw - TRANSPORT𝑟𝑒 - REFURB\n",
    "\n",
    "Let's try it:"
   ]
  },
  {
   "cell_type": "code",
   "execution_count": null,
   "id": "46ac8642",
   "metadata": {},
   "outputs": [],
   "source": [
    "carbon_benefit = production_kg_co2e + transport_p_kg_co2e + waste_kg_co2e + transport_w_kg_co2e - transport_re - refurb\n",
    "carbon_benefit"
   ]
  },
  {
   "cell_type": "markdown",
   "id": "deb0f715",
   "metadata": {},
   "source": [
    "Finally, we have an amount, in kg CO2e, for the carbon avoided through the reuse of 800 laptops at Bespoke IT.\n",
    "\n",
    "229,551 kg CO2e is a very high amount. \n",
    "\n",
    "For context, in that's equivalent to 569,793 miles driven by a petrol powered vehicle, or 45 homes' worth of electricity use for one year.\n",
    "(see here for equivalencies: https://www.epa.gov/energy/greenhouse-gas-equivalencies-calculator)\n",
    "\n",
    "Carbon emissions from new production of IT equipment is very high. "
   ]
  },
  {
   "cell_type": "markdown",
   "id": "54ba884c",
   "metadata": {},
   "source": [
    "## What Next?"
   ]
  },
  {
   "cell_type": "markdown",
   "id": "c5ca34f8",
   "metadata": {},
   "source": [
    "Now, through the worked example, you should have a good understanding of the carbon calculation.\n",
    "\n",
    "Even in a relatively small business, this can become quite complicated quite quickly.\n",
    "\n",
    "Fortunately, the **next Jupyter Notebook** provides a guide to quickening the calculations with Pandas. \n",
    "<img src=\"images/jupyter.png\" width=\"200\">"
   ]
  }
 ],
 "metadata": {
  "kernelspec": {
   "display_name": "Python 3.10.4 64-bit",
   "language": "python",
   "name": "python3"
  },
  "language_info": {
   "codemirror_mode": {
    "name": "ipython",
    "version": 3
   },
   "file_extension": ".py",
   "mimetype": "text/x-python",
   "name": "python",
   "nbconvert_exporter": "python",
   "pygments_lexer": "ipython3",
   "version": "3.10.4"
  },
  "vscode": {
   "interpreter": {
    "hash": "7578a280cfc1a0f5449bc3c7dc28cd178a54d82fb655455c126f87c74faece2a"
   }
  }
 },
 "nbformat": 4,
 "nbformat_minor": 5
}
