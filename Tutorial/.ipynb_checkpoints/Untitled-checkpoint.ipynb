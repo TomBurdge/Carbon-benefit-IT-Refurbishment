{
 "cells": [
  {
   "cell_type": "markdown",
   "id": "337ac83f",
   "metadata": {},
   "source": [
    "# Operationalising the Calculation"
   ]
  },
  {
   "cell_type": "markdown",
   "id": "393bb8ba",
   "metadata": {},
   "source": [
    "Now that you understand the calculation, and have worked through a toy case, we will operationalise the calculation."
   ]
  },
  {
   "cell_type": "code",
   "execution_count": 5,
   "id": "948b6aea",
   "metadata": {},
   "outputs": [],
   "source": [
    "import pandas as pd"
   ]
  },
  {
   "cell_type": "markdown",
   "id": "2383a1fc",
   "metadata": {},
   "source": [
    "### Finding New Production Data"
   ]
  },
  {
   "cell_type": "markdown",
   "id": "2830626c",
   "metadata": {},
   "source": [
    "Recall from the previous Start Here notebook that New Production of a device dominates the calculation."
   ]
  },
  {
   "cell_type": "markdown",
   "id": "0f253df6",
   "metadata": {},
   "source": [
    "If we can create a database which aggregates new production data, we will have data for most important part of the calculation."
   ]
  },
  {
   "cell_type": "markdown",
   "id": "3b354248",
   "metadata": {},
   "source": [
    "Many Original Equipment Manufacturers (OEMs) use the MIT's Product Attribute to Impact Algorithm to calculate the emissions at all stages of their product's lifecycle, and share the data on their website."
   ]
  },
  {
   "cell_type": "markdown",
   "id": "a2c3ce67",
   "metadata": {},
   "source": [
    "These files provide high-quality data for the following three components of the calculation:\n",
    "* PRODUCTION = Environmental impact from the avoided new production;\n",
    "* TRANSPORTp = Environmental impact from the avoided transport from production;\n",
    "* WASTE = Environmental impact from the avoided waste handling (of the product that was not produced);\n",
    "* TRANSPORTw = Environmental impact from the avoided transport to waste handling; "
   ]
  },
  {
   "cell_type": "markdown",
   "id": "0ed2bed1",
   "metadata": {},
   "source": [
    "**However**, these files are often difficult to find and in PDF form.\n",
    "\n",
    "This makes the data very difficult to perform data analysis with."
   ]
  },
  {
   "cell_type": "markdown",
   "id": "724ca471",
   "metadata": {},
   "source": [
    "### Boavizta's Database"
   ]
  },
  {
   "cell_type": "markdown",
   "id": "7e48655f",
   "metadata": {},
   "source": [
    "[Boavizta](https://boavizta.org/en) is agroup of French data-professionals who work to help organisations measure the carbon effects of their IT equipment."
   ]
  },
  {
   "cell_type": "markdown",
   "id": "75ea6dbd",
   "metadata": {},
   "source": [
    "One of Boavizta's projects aggregates the the MIT's files which aggregate the data from various OEMs' MIT files."
   ]
  },
  {
   "cell_type": "markdown",
   "id": "2a3a8cd7",
   "metadata": {},
   "source": [
    "You can find a dashboard for the project [here](https://dataviz.boavizta.org/). \n",
    "\n",
    "You will want the latest data, which you can export as a CSV from the site."
   ]
  },
  {
   "cell_type": "markdown",
   "id": "57b78cbb",
   "metadata": {},
   "source": [
    "At the accompanying [GitHub](https://github.com/Boavizta/environmental-footprint-data), you can see the process through which they have extracted the data.\n",
    "\n",
    "As a summary of their process, they:\n",
    "* Aggregate the files from the OEMs on the GitHub.\n",
    "* Developed Python files which parse the PDFs with Natural Language Processing for each brand.\n",
    "* Added the extracted data to a single database.\n",
    "\n"
   ]
  },
  {
   "cell_type": "markdown",
   "id": "7542ad67",
   "metadata": {},
   "source": [
    "This database, with some transformation, will underpin the calculation."
   ]
  },
  {
   "cell_type": "markdown",
   "id": "5843812f",
   "metadata": {},
   "source": [
    "Let's take a look at the database:"
   ]
  }
 ],
 "metadata": {
  "kernelspec": {
   "display_name": "Python 3 (ipykernel)",
   "language": "python",
   "name": "python3"
  },
  "language_info": {
   "codemirror_mode": {
    "name": "ipython",
    "version": 3
   },
   "file_extension": ".py",
   "mimetype": "text/x-python",
   "name": "python",
   "nbconvert_exporter": "python",
   "pygments_lexer": "ipython3",
   "version": "3.9.12"
  }
 },
 "nbformat": 4,
 "nbformat_minor": 5
}
