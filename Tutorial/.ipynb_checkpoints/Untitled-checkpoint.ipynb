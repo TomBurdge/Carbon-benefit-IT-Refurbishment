{
 "cells": [
  {
   "cell_type": "markdown",
   "id": "991c3ad8",
   "metadata": {},
   "source": [
    "# How to Calculate the Carbon Benefit of Reuse\n",
    "### This document provides a quick introduction to the calculation, and how you'll use it\n"
   ]
  },
  {
   "cell_type": "markdown",
   "id": "3b0587a9",
   "metadata": {},
   "source": [
    "Structure plan:\n",
    "Imports right at the start.\n",
    "The calculation. (stuff taken from supporting doc)\n",
    "A very simplified version - the formula.\n",
    "A more detailed walkthrough of the formula, with toy data.\n",
    "Assumptions"
   ]
  },
  {
   "cell_type": "markdown",
   "id": "1fdea447",
   "metadata": {},
   "source": [
    "* Setup imports"
   ]
  },
  {
   "cell_type": "code",
   "execution_count": 1,
   "id": "31d9345a",
   "metadata": {},
   "outputs": [],
   "source": [
    "import pandas as pd\n",
    "import googlemaps as maps\n",
    "#don't actually need this in this Notebook."
   ]
  },
  {
   "cell_type": "markdown",
   "id": "e3e8b679",
   "metadata": {},
   "source": [
    "## An introduction to the calculation"
   ]
  },
  {
   "cell_type": "markdown",
   "id": "cf0e8637",
   "metadata": {},
   "source": [
    "This calculation provides the carbon benefit of reuse compared to the next owner of the IT product buying new."
   ]
  },
  {
   "cell_type": "markdown",
   "id": "902becbd",
   "metadata": {},
   "source": [
    "The result is a counter-factual conditional statement. \n",
    "\n",
    "A counterfactual conditional statement makes a conditional claim about something that did not happen – ‘if I had not gone on a run at 9:00 a.m., my heartbeat would have been lower at 9:30 a.m.’ \n",
    "\n",
    "The carbon benefit calculation’s counter-factional conditional statement says, ‘if you hadn’t re-used your assets , the carbon emissions, as a result, would have been X kg CO2e higher.’"
   ]
  },
  {
   "cell_type": "markdown",
   "id": "d662256e",
   "metadata": {},
   "source": [
    "### Components of the calculation"
   ]
  },
  {
   "cell_type": "markdown",
   "id": "dea22ce4",
   "metadata": {},
   "source": [
    "To calculate the carbon benefit of reuse, we need to calculate: \n",
    "\n",
    "1. the carbon **avoided** by not recycling the product as waste material and second user purchasing new, \n",
    "2. the carbon **added** by choosing re-use. \n",
    "\n",
    "When we subtract 2. from 1. we reach the carbon benefit of reuse."
   ]
  },
  {
   "cell_type": "markdown",
   "id": "3672a450",
   "metadata": {},
   "source": [
    "#### Within the scope of 1. are:"
   ]
  },
  {
   "cell_type": "markdown",
   "id": "029bfb15",
   "metadata": {},
   "source": [
    "* Environmental impact from the **avoided new production**.\n",
    "* Environmental impact from the **avoided transport from production**.\n",
    "* Environmental impact from the **avoided waste handling** (of the product that was not produced).\n",
    "* Environmental impact from the **avoided transport to waste handling**.\n",
    "\n",
    "The first two bullet points of 1. **assume** that the second user of the product would have bought new if they had not bought used. \n",
    "By not buying new, environmental impact from new production and environmental impact from avoided transport are avoided.\n",
    "\n",
    "\n",
    "The third and fourth elements of 1. originate in the fact that if the product had not been reused it would have been recycled as waste material. \n",
    "Environmental impacts emerge in the recycling process, such as emission through waste-to-energy, which is avoided through re-use."
   ]
  },
  {
   "cell_type": "markdown",
   "id": "a9d0de98",
   "metadata": {},
   "source": [
    "#### Within the scope of 2. are:"
   ]
  },
  {
   "cell_type": "markdown",
   "id": "4b5d85bf",
   "metadata": {},
   "source": [
    "* Environmental impact from the reconditioning at the facility.\n",
    "* Environmental impact from the added transport to and from the reconditioning facility.\n",
    "\n",
    "To calculate the environmental benefit of re-use, we need to account for the environmental costs of re-use. \n",
    "\n",
    "In principle, it is possible that re-use could be worse environmentally than recycling; consider a single 2008 laptop that is transported a few thousand miles in one lorry to be resold. In this case, it could be better to recycle the parts of the device in-country. Fortunately for refurbishers, we have found that this rarely occurs; the carbon cost of new production dominates this calculation and is not lower than 2. \n",
    "\n",
    "However, when calculating the carbon benefit from re-use it is important to consider the carbon cost of re-use. Transport from user 1 to the refurbishing facility involves carbon emissions, as does the refurbishment process. \n",
    "\n",
    "To account for the refurbishment cost, we **subtract** 2. in the carbon calculation.\n",
    "\n"
   ]
  },
  {
   "cell_type": "markdown",
   "id": "bc2e0bbd",
   "metadata": {},
   "source": [
    "## The calculation formula"
   ]
  },
  {
   "cell_type": "markdown",
   "id": "84f93e99",
   "metadata": {},
   "source": [
    "An original version of this calculation <sub>[1]</sub> provides the following a key for the calculation:\n",
    "\n",
    "* **PRODUCTION** = Environmental impact from the avoided new production; \n",
    "* **TRANSPORTp** = Environmental impact from the avoided transport from ***production***; \n",
    "* **WASTE** = Environmental impact from the avoided waste handling (of the product that was not produced); \n",
    "* **TRANSPORTw** = Environmental impact from the avoided transport to ***waste*** handling; \n",
    "* **TRANSPORT𝑟𝑒** = Environmental impact from the added transport to and from ***refurbishment***; \n",
    "* **REFURB** = Environmental impact from the refurbishment of the product.\n",
    "\n",
    "These are all of 1. and 2. from the previous section."
   ]
  },
  {
   "cell_type": "markdown",
   "id": "b6741902",
   "metadata": {},
   "source": [
    "The formula for the calculation itself then becomes:\n",
    "Carbon Benefit = PRODUCTION + TRANSPORTp + WASTE + TRANSPORTw - TRANSPORT𝑟𝑒 - REFURB"
   ]
  },
  {
   "cell_type": "markdown",
   "id": "339be769",
   "metadata": {},
   "source": [
    "This is a very simple addition and subtraction calculation. \n",
    "\n",
    "The difficult parts are: (1) sourcing accurate data for each component and (2) making the data for the calculation easy to call and calculate on demand for specific amounts.\n",
    "\n",
    "The aim of this project is to make (1) and (2) easier for small and medium sized refurbishers."
   ]
  },
  {
   "cell_type": "markdown",
   "id": "01ee9f68",
   "metadata": {},
   "source": [
    "## A simple example"
   ]
  },
  {
   "cell_type": "markdown",
   "id": "d7e1fb2e",
   "metadata": {},
   "source": [
    "At this point, it will be useful to **perform** the calculation in a very simple case."
   ]
  },
  {
   "cell_type": "markdown",
   "id": "51ca567d",
   "metadata": {},
   "source": [
    "Let's take a fictional business:\n",
    "\n",
    "**Bespoke IT Supply Solutions LLC** is a small IT Refurbisher.\n",
    "\n",
    "They have 5 employees and one facility. \n",
    "\n",
    "Each year they sell 800 refurbished gaming laptops priced at £100, which is £80,000 in yearly revenue."
   ]
  },
  {
   "cell_type": "markdown",
   "id": "a5dc9754",
   "metadata": {},
   "source": [
    "Now, let's try to give a value for each component in this calculation for Bespoke IT."
   ]
  },
  {
   "cell_type": "code",
   "execution_count": 2,
   "id": "1c93616c",
   "metadata": {},
   "outputs": [],
   "source": [
    "total_refurbished = 800"
   ]
  },
  {
   "cell_type": "markdown",
   "id": "e9311b52",
   "metadata": {},
   "source": [
    "### Production"
   ]
  },
  {
   "cell_type": "markdown",
   "id": "f0dc0fc6",
   "metadata": {},
   "source": [
    "The new production that Bespoke IT avoids is 800 PCs.\n",
    "\n",
    "Since these are gaming laptops, let's assume that these are notebooks with screen sized over 14\"."
   ]
  },
  {
   "cell_type": "markdown",
   "id": "0fc6308e",
   "metadata": {},
   "source": [
    "With this reasonable assumption, we are in luck.\n",
    "\n",
    "The Massachussett's Insitute of Technology's Materials System Laboratory has created a process for estimating the carbon emissions for IT devices across the device's entire lifecycle.\n",
    "\n",
    "We can return an average by device type, such as a Notebook, through averaging a sample of MIT's files.\n",
    "\n",
    "For Notebooks with screen >14\", this returns new production cost for these devices at 300 kg CO2e, rounded to 2 significant figures."
   ]
  },
  {
   "cell_type": "code",
   "execution_count": 3,
   "id": "f9ecffb9",
   "metadata": {},
   "outputs": [],
   "source": [
    "production_kg_co2e = 300 * total_refurbished"
   ]
  },
  {
   "cell_type": "markdown",
   "id": "7d551284",
   "metadata": {},
   "source": [
    "#### Note: MIT's Product Attiribute to Impact Algorithm"
   ]
  },
  {
   "cell_type": "markdown",
   "id": "3e794788",
   "metadata": {},
   "source": [
    "As I understand it, MIT's Product Attribute to Impact Algorithm reaches a happy compromise for calculating the carbon impact of IT equipment.\n",
    "\n",
    "A standard tool in Industrial Ecology are Life Cycle Assessment calculations.\n",
    "\n",
    "Life Cycle Assessment calculations return the environmental impacts at each stage of a product's lifecycle: production, transport, use, and end-of-life disposition.\n",
    "\n",
    "One of the environmental impacts that are usually included carbon emissions."
   ]
  },
  {
   "cell_type": "markdown",
   "id": "a4c04817",
   "metadata": {},
   "source": [
    "A standard problem with life cycle assessments are that they can be **extremely** costly and time consuming to calculate at a reliable standard of accuracy.\n",
    "\n",
    "Think of trying to collate all the data about the device that you are reading this Jupyter Notebook with. To even begin, you would need to know:\n",
    "* Where it was produced.\n",
    "* The emisssions of that facility.\n",
    "* The materials used to make the device.\n",
    "* The extraction process for each material.\n",
    "* The refinement process of the materials before they reached the production facility.\n",
    "You could calculate all of this, *only* for the production stage.\n",
    "\n",
    "But then, for large IT companies, a device may be produced in Asia **and** South America...\n",
    "You would need to provide a separate life cycle analysis for that facility too."
   ]
  },
  {
   "cell_type": "markdown",
   "id": "1a494986",
   "metadata": {},
   "source": [
    "MIT's Product Attribute to Impact Algorithm reaches a compromise by making certain assumptions about the carbon emissions at each stage of the asset's life.\n",
    "\n",
    "Some properties of a device, such as its screen size and CPU type, most significantly determine an asset's lifetime emissions.\n",
    "\n",
    "The researchers at MIT noticed this, and created an algorithm which inputs these most important components for the device so that providing a lifecycle analysis calculation with *acceptable* **accuracy** with *acceptable* **calculation cost** is possible.\n",
    "\n",
    "Original Equipment Manufacturers (OEMs) have been provided access to the Product Attribute to Impact Algorithm and publicly shared files for *some* of their devices.\n",
    "\n",
    "Large OEM include: HPE, Lenovo, Dell, Cisco, and AMD.\n",
    "\n",
    "We assume these files have good accuracy, and will rely on them for reaching various components of the carbon avoidance calculation."
   ]
  },
  {
   "cell_type": "markdown",
   "id": "b07fd3d7",
   "metadata": {},
   "source": [
    "### Transport P"
   ]
  },
  {
   "cell_type": "markdown",
   "id": "74b3586c",
   "metadata": {},
   "source": [
    "Recall that Transportp is the environmental impact from the avoided transport from production to the first user.\n",
    "\n",
    "This is a carbon **benefit** because it is **avoided**; it is easy to get confused."
   ]
  },
  {
   "cell_type": "markdown",
   "id": "19b27a7f",
   "metadata": {},
   "source": [
    "The PAIA files also provide an amount for this component of the calculation.\n",
    "\n",
    "For a Notebook with a screen greater than 14 inches, this is: 1.5 kg Co2e.\n",
    "\n",
    "It is worth noting that this is **significantly** lower than the 300 kilogrammes for new production. We will that new production dominates this calculation as the highest amount, and therefore further emphasises the benefit of reuse."
   ]
  },
  {
   "cell_type": "code",
   "execution_count": 4,
   "id": "4ca2d13b",
   "metadata": {},
   "outputs": [],
   "source": [
    "transport_p_kg_co2e = 1.5 * total_refurbished"
   ]
  },
  {
   "cell_type": "markdown",
   "id": "a1e9c4b9",
   "metadata": {},
   "source": [
    "### Waste"
   ]
  },
  {
   "cell_type": "markdown",
   "id": "f6930603",
   "metadata": {},
   "source": [
    "Recall that Waste is the emissions that result from waste handling, or recycling.\n",
    "\n",
    "It is worth emphasising that just because an IT product is recylced does **not** mean that it has been disposed of sustainably.\n",
    "\n",
    "Recycling can include waste to energy, where the asset is **burned**, resulting in significant carbon emissions."
   ]
  },
  {
   "cell_type": "markdown",
   "id": "db77ecd6",
   "metadata": {},
   "source": [
    "The PAIA files also provide us with a figure for waste handling; 1.6 kg CO2e."
   ]
  },
  {
   "cell_type": "code",
   "execution_count": 5,
   "id": "a69601ff",
   "metadata": {},
   "outputs": [],
   "source": [
    "waste_kg_co2e = 1.6 * total_refurbished"
   ]
  },
  {
   "cell_type": "markdown",
   "id": "cd64a638",
   "metadata": {},
   "source": [
    "### Transport W"
   ]
  },
  {
   "cell_type": "markdown",
   "id": "6d702a51",
   "metadata": {},
   "source": [
    "To finish the carbon **benefit** component of the calculation, we have the avoided transport to waste handling.\n",
    "\n",
    "The algorithm appears to assume the assets are disposed of in-country, with a short journey. Therefore, the amount is very low: 0.1 kg Co2e."
   ]
  },
  {
   "cell_type": "code",
   "execution_count": 6,
   "id": "84466984",
   "metadata": {},
   "outputs": [],
   "source": [
    "transport_w_kg_co2e = 0.1 * total_refurbished"
   ]
  },
  {
   "cell_type": "markdown",
   "id": "ce6f8e9e",
   "metadata": {},
   "source": [
    "### Transport Re"
   ]
  },
  {
   "cell_type": "markdown",
   "id": "833b2e48",
   "metadata": {},
   "source": [
    "To provide an honest picture of the carbon emissions avoided through reuse, we need to factor in the carbon **cost** of refurbishing.\n",
    "\n",
    "The first component of this carbon cost is the transport to and from the refurbishing facility. \n",
    "\n",
    "In other words, this is **all** the transport between the user of the new device and the user of the refurbished device. (This is the same device, at different stages of its lifecycle.)\n",
    "\n"
   ]
  },
  {
   "cell_type": "markdown",
   "id": "fccf3719",
   "metadata": {},
   "source": [
    "Bespoke IT sources all of their 800 laptops from a large financial company; **PW Asset Management Corp**.\n",
    "\n",
    "Bespoke IT works for PW Asset as an IT Asset Disposition (ITAD); Bespoke IT purchases the notebooks from PW Asset at a very good price, and in exchange Bespoke IT wipes all of the data on the notebooks to NIST standards.\n",
    "\n",
    "PW Asset is based in Birmingham, and Bespoke IT is based in Coventry.\n",
    "\n",
    "Once per quarter, Bespoke IT uses a logistics company to pick up the devices.\n",
    "\n",
    "A lorry travels the 38 kilometers from Birmingham to Coventry and drops off the assets at Bespoke IT."
   ]
  },
  {
   "cell_type": "markdown",
   "id": "14b8a234",
   "metadata": {},
   "source": [
    "For each journey, we need to calculate the resultant carbon emissions.\n",
    "\n",
    "These would usually be a scope 3 emission that many refurbishers don't track yet, but it is a necessary component of the calculation.\n",
    "\n",
    "Thankfully the UK government provides a way of calculating this emission. (This can vary by country and I encourage you to use the recommended method for your own jurisdiction).\n",
    "\n",
    "An average HGV will emit 0.08009 kg CO2e per tonne.km.\n",
    "\n",
    "Therefore, to calculate the Transport emissions for these pickups, we need to find the tonne.km amount for the pickups"
   ]
  },
  {
   "cell_type": "code",
   "execution_count": 7,
   "id": "2cc0cb3c",
   "metadata": {},
   "outputs": [],
   "source": [
    "HGV_kg_CO2e_per_tonne_km = 0.08009"
   ]
  },
  {
   "cell_type": "markdown",
   "id": "7f5bb167",
   "metadata": {},
   "source": [
    "To calculate the tonne.km we need to start with the weight of the asset.\n",
    "\n",
    "The PAIA files also include a weight for the assets. On average, a Notebook with a screen over 14 inches weighs **2.1 kilogrammes**."
   ]
  },
  {
   "cell_type": "code",
   "execution_count": 8,
   "id": "f4d7371d",
   "metadata": {},
   "outputs": [],
   "source": [
    "notebook_weight_kg = 2.1"
   ]
  },
  {
   "cell_type": "markdown",
   "id": "8c275710",
   "metadata": {},
   "source": [
    "If there is one pickup per quarter, then we can assume that for each pickup a quarter of the total assets per year are picked up.\n",
    "\n",
    "So, for one pickup fifty assets are picked up. \n",
    "\n",
    "Therefore, per pickup, the weight is the weight of 50 notebooks."
   ]
  },
  {
   "cell_type": "code",
   "execution_count": 9,
   "id": "baa47731",
   "metadata": {},
   "outputs": [
    {
     "data": {
      "text/plain": [
       "420.0"
      ]
     },
     "execution_count": 9,
     "metadata": {},
     "output_type": "execute_result"
    }
   ],
   "source": [
    "total_pickup_weight_kg = notebook_weight_kg * 200\n",
    "total_pickup_weight_kg"
   ]
  },
  {
   "cell_type": "markdown",
   "id": "ad7c7348",
   "metadata": {},
   "source": [
    "Tonne.kms are tonnes * kilometers.\n",
    "\n",
    "So, for the total weight, we need to convert it to tonnes.\n",
    "(Where a tonne is 1,000 kgs):"
   ]
  },
  {
   "cell_type": "code",
   "execution_count": 10,
   "id": "b10fddd7",
   "metadata": {},
   "outputs": [
    {
     "data": {
      "text/plain": [
       "0.42"
      ]
     },
     "execution_count": 10,
     "metadata": {},
     "output_type": "execute_result"
    }
   ],
   "source": [
    "total_pickup_weight_tonnes = total_pickup_weight_kg/1000\n",
    "total_pickup_weight_tonnes"
   ]
  },
  {
   "cell_type": "markdown",
   "id": "92b56de0",
   "metadata": {},
   "source": [
    "For each pickup, the lorry travels 38 kilometers from Birmingham to Coventry."
   ]
  },
  {
   "cell_type": "code",
   "execution_count": 11,
   "id": "2c0900bf",
   "metadata": {},
   "outputs": [],
   "source": [
    "pickup_distance_km = 38"
   ]
  },
  {
   "cell_type": "markdown",
   "id": "1acc399c",
   "metadata": {},
   "source": [
    "Now, we have all that we need to calculate tonne.kms for each pickup: the total weight in tonnes and the distance of the pickup."
   ]
  },
  {
   "cell_type": "code",
   "execution_count": 12,
   "id": "a0e373c7",
   "metadata": {},
   "outputs": [
    {
     "data": {
      "text/plain": [
       "15.959999999999999"
      ]
     },
     "execution_count": 12,
     "metadata": {},
     "output_type": "execute_result"
    }
   ],
   "source": [
    "tonne_km_per_pickup = total_pickup_weight_tonnes * pickup_distance_km\n",
    "tonne_km_per_pickup"
   ]
  },
  {
   "cell_type": "markdown",
   "id": "a2f8d8a6",
   "metadata": {},
   "source": [
    "Now we know the tonne.km for each pickup, we can use the government's conversion factor to calculate the CO2e emissions for each pickup:"
   ]
  },
  {
   "cell_type": "code",
   "execution_count": 13,
   "id": "8c6f413a",
   "metadata": {},
   "outputs": [
    {
     "data": {
      "text/plain": [
       "1.2782364"
      ]
     },
     "execution_count": 13,
     "metadata": {},
     "output_type": "execute_result"
    }
   ],
   "source": [
    "kg_co2e_per_pickup = tonne_km_per_pickup * HGV_kg_CO2e_per_tonne_km\n",
    "kg_co2e_per_pickup"
   ]
  },
  {
   "cell_type": "markdown",
   "id": "dfc2ac35",
   "metadata": {},
   "source": [
    "So, for each pickup, we know the kg CO2e emissions.\n",
    "\n",
    "Now, recall that Bespoke IT picks up from PW Asset once per quarter.\n",
    "\n",
    "So, Bespoke IT completed the pickups 4 times in a year for the 800 laptops. \n",
    "\n",
    "So, the **total** for all the pickups is:"
   ]
  },
  {
   "cell_type": "code",
   "execution_count": 14,
   "id": "5641b668",
   "metadata": {},
   "outputs": [
    {
     "data": {
      "text/plain": [
       "5.1129456"
      ]
     },
     "execution_count": 14,
     "metadata": {},
     "output_type": "execute_result"
    }
   ],
   "source": [
    "total_kg_co2e_pickups = 4 * kg_co2e_per_pickup\n",
    "total_kg_co2e_pickups"
   ]
  },
  {
   "cell_type": "markdown",
   "id": "a49099f3",
   "metadata": {},
   "source": [
    "Now we have **one part** of the transport calculation.\n",
    "\n",
    "We know the emissions associated with transport to the refurbisher from the first user. We also need the transport emissions from the first user to the second user, once it has been refurbished."
   ]
  },
  {
   "cell_type": "markdown",
   "id": "d9b1ea58",
   "metadata": {},
   "source": [
    "Bespoke IT only sells IT equipment at their walk-in Refurbished PC store. They don't have an ecommerce presence.\n",
    "\n",
    "We know that, according to Nimble Fins (https://www.nimblefins.co.uk/largest-car-insurance-companies/average-car-journey-uk), the average distance of a car journey in the UK is 13.5 kilometers (8.4 miles).\n",
    "\n",
    "We can assume that everyone who comes to the store drives the average distance of a car journey to get there, and the average distance back home. So, we know the distances involved in picking up the asset."
   ]
  },
  {
   "cell_type": "code",
   "execution_count": 15,
   "id": "efad915d",
   "metadata": {},
   "outputs": [],
   "source": [
    "avg_car_journey_uk_km = 13.5"
   ]
  },
  {
   "cell_type": "markdown",
   "id": "6eefada9",
   "metadata": {},
   "source": [
    "According to another set of government figures (https://www.gov.uk/government/publications/new-car-carbon-dioxide-emissions), we know that the average emissions per kilometer for a newly registered car are 122.4 grammes per kilometer.\n",
    "\n",
    "In kg CO2e this is:"
   ]
  },
  {
   "cell_type": "code",
   "execution_count": 16,
   "id": "832697cc",
   "metadata": {},
   "outputs": [],
   "source": [
    "car_co2e_per_km_kg = 0.1224"
   ]
  },
  {
   "cell_type": "markdown",
   "id": "55ba90a4",
   "metadata": {},
   "source": [
    "We can assume the customer completed two average journeys; one to the store and one back home.\n",
    "\n",
    "Then, we can calculate the CO2e emissions **to** the second user as:"
   ]
  },
  {
   "cell_type": "code",
   "execution_count": 17,
   "id": "6b422911",
   "metadata": {},
   "outputs": [
    {
     "data": {
      "text/plain": [
       "3.3047999999999997"
      ]
     },
     "execution_count": 17,
     "metadata": {},
     "output_type": "execute_result"
    }
   ],
   "source": [
    "transport_to_customer_kg_co2e = (avg_car_journey_uk_km*2)*car_co2e_per_km_kg\n",
    "transport_to_customer_kg_co2e"
   ]
  },
  {
   "cell_type": "markdown",
   "id": "a59423cf",
   "metadata": {},
   "source": [
    "Finally, we can reach the **total** kg CO2e the whole of transport from the user of the new device to the user of the refurbished device.\n",
    "\n",
    "To do so, we add the total emissions from the pickups to the total emissions from the transport to customer:"
   ]
  },
  {
   "cell_type": "code",
   "execution_count": 18,
   "id": "39dc0380",
   "metadata": {},
   "outputs": [],
   "source": [
    "transport_re = total_kg_co2e_pickups + transport_to_customer_kg_co2e"
   ]
  },
  {
   "cell_type": "markdown",
   "id": "e268909c",
   "metadata": {},
   "source": [
    "### Refurb"
   ]
  },
  {
   "cell_type": "markdown",
   "id": "3e8b94c6",
   "metadata": {},
   "source": [
    "The final component in the calculation is the emissions that result from refurbishing the device."
   ]
  },
  {
   "cell_type": "markdown",
   "id": "aacaf335",
   "metadata": {},
   "source": [
    "Many companies of a reasonable size are required to calculate their scope 1 and scope 2 emissions.\n",
    "\n",
    "Scope 1 emissions are those emissions that are a **direct** result of a company's day-to-day operations. This includes gas for central heating, or the diesel in their fleet vehicles. \n",
    "\n",
    "Scope 2 emissions are **indirect** emissions from the electricity, heat, and steam power that organisation purchases."
   ]
  },
  {
   "cell_type": "markdown",
   "id": "0caa265c",
   "metadata": {},
   "source": [
    "Bespoke IT is small enough that they haven't calculated their total emissions up to this point.\n",
    "\n",
    "Since they are a small company, it won't be practical to create a detailed calculation.\n",
    "\n",
    "Instead, they can use an estimator at enexo.io"
   ]
  },
  {
   "cell_type": "markdown",
   "id": "0edb4f5e",
   "metadata": {},
   "source": [
    "According to Enexo, a company of their size in their industry will emit 2 tonnes of CO2e scope 1 emissions and 11 tonnes CO2e of scope 2 emissions."
   ]
  },
  {
   "cell_type": "code",
   "execution_count": 19,
   "id": "2410a5b7",
   "metadata": {},
   "outputs": [],
   "source": [
    "scope_1_tonnes_co2e = 2\n",
    "scope_2_tonnes_co2e = 11"
   ]
  },
  {
   "cell_type": "markdown",
   "id": "c4bc6977",
   "metadata": {},
   "source": [
    "We can get the total and then put it into CO2e to make things easier."
   ]
  },
  {
   "cell_type": "code",
   "execution_count": 20,
   "id": "73b6c9c3",
   "metadata": {},
   "outputs": [],
   "source": [
    "scope_1_and_2_tonnes_co2e = scope_1_tonnes_co2e + scope_2_tonnes_co2e"
   ]
  },
  {
   "cell_type": "markdown",
   "id": "8e402b2b",
   "metadata": {},
   "source": [
    "Now, when we convert this from tonnes to kg CO2e we know the total emissions that result from Bespoke IT's refurbishing process."
   ]
  },
  {
   "cell_type": "code",
   "execution_count": 21,
   "id": "1998836b",
   "metadata": {},
   "outputs": [
    {
     "data": {
      "text/plain": [
       "13000"
      ]
     },
     "execution_count": 21,
     "metadata": {},
     "output_type": "execute_result"
    }
   ],
   "source": [
    "refurb = scope_1_and_2_tonnes_co2e*1000\n",
    "refurb"
   ]
  },
  {
   "cell_type": "markdown",
   "id": "53a5f25b",
   "metadata": {},
   "source": [
    "### The Calculation"
   ]
  },
  {
   "cell_type": "markdown",
   "id": "0069a600",
   "metadata": {},
   "source": [
    "Now, we have an amount for each component of the calculation.\n",
    "\n",
    "Recall that the amount is...\n",
    "\n",
    "Carbon Benefit = PRODUCTION + TRANSPORTp + WASTE + TRANSPORTw - TRANSPORT𝑟𝑒 - REFURB\n",
    "\n",
    "Let's try it:"
   ]
  },
  {
   "cell_type": "code",
   "execution_count": 22,
   "id": "b5668243",
   "metadata": {},
   "outputs": [
    {
     "data": {
      "text/plain": [
       "229551.5822544"
      ]
     },
     "execution_count": 22,
     "metadata": {},
     "output_type": "execute_result"
    }
   ],
   "source": [
    "carbon_benefit = production_kg_co2e + transport_p_kg_co2e + waste_kg_co2e + transport_w_kg_co2e - transport_re - refurb\n",
    "carbon_benefit"
   ]
  }
 ],
 "metadata": {
  "kernelspec": {
   "display_name": "Python 3 (ipykernel)",
   "language": "python",
   "name": "python3"
  },
  "language_info": {
   "codemirror_mode": {
    "name": "ipython",
    "version": 3
   },
   "file_extension": ".py",
   "mimetype": "text/x-python",
   "name": "python",
   "nbconvert_exporter": "python",
   "pygments_lexer": "ipython3",
   "version": "3.9.12"
  }
 },
 "nbformat": 4,
 "nbformat_minor": 5
}
